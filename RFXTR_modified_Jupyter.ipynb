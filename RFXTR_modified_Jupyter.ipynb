{
 "cells": [
  {
   "cell_type": "markdown",
   "metadata": {
    "id": "Mv0shu1cbcWG"
   },
   "source": [
    "# Stock Market Analysis"
   ]
  },
  {
   "cell_type": "code",
   "execution_count": 284,
   "metadata": {
    "id": "Gf8uFU-GbcWK"
   },
   "outputs": [],
   "source": [
    "import pandas as pd\n",
    "import numpy as np\n",
    "#%matplotlib inline\n",
    "from matplotlib import pyplot as plt\n",
    "from pandas import Series\n",
    "from pandas import DataFrame\n",
    "from pandas import concat\n",
    "\n",
    "# Train test split\n",
    "from sklearn.model_selection import TimeSeriesSplit\n",
    "\n",
    "\n",
    "# Models\n",
    "from sklearn.svm import LinearSVC\n",
    "from sklearn.ensemble import RandomForestClassifier, RandomForestRegressor\n",
    "\n",
    "# Model evaluators\n",
    "from sklearn.metrics import f1_score,confusion_matrix"
   ]
  },
  {
   "cell_type": "markdown",
   "metadata": {
    "id": "WO-Wr7EgbcWL"
   },
   "source": [
    "### Reading the Train Data"
   ]
  },
  {
   "cell_type": "code",
   "execution_count": 285,
   "metadata": {
    "colab": {
     "base_uri": "https://localhost:8080/"
    },
    "id": "epGhl1w7bcWL",
    "outputId": "69373055-d014-4d8d-a554-5a8c510647f0"
   },
   "outputs": [
    {
     "data": {
      "text/html": [
       "<div>\n",
       "<style scoped>\n",
       "    .dataframe tbody tr th:only-of-type {\n",
       "        vertical-align: middle;\n",
       "    }\n",
       "\n",
       "    .dataframe tbody tr th {\n",
       "        vertical-align: top;\n",
       "    }\n",
       "\n",
       "    .dataframe thead th {\n",
       "        text-align: right;\n",
       "    }\n",
       "</style>\n",
       "<table border=\"1\" class=\"dataframe\">\n",
       "  <thead>\n",
       "    <tr style=\"text-align: right;\">\n",
       "      <th></th>\n",
       "      <th>Date</th>\n",
       "      <th>Open</th>\n",
       "      <th>High</th>\n",
       "      <th>Low</th>\n",
       "      <th>Close</th>\n",
       "      <th>Volume</th>\n",
       "      <th>Stock Trading</th>\n",
       "    </tr>\n",
       "  </thead>\n",
       "  <tbody>\n",
       "    <tr>\n",
       "      <th>0</th>\n",
       "      <td>2016-12-30</td>\n",
       "      <td>42120</td>\n",
       "      <td>42330</td>\n",
       "      <td>41700</td>\n",
       "      <td>41830</td>\n",
       "      <td>610000</td>\n",
       "      <td>25628028000</td>\n",
       "    </tr>\n",
       "    <tr>\n",
       "      <th>1</th>\n",
       "      <td>2016-12-29</td>\n",
       "      <td>43000</td>\n",
       "      <td>43220</td>\n",
       "      <td>42540</td>\n",
       "      <td>42660</td>\n",
       "      <td>448400</td>\n",
       "      <td>19188227000</td>\n",
       "    </tr>\n",
       "    <tr>\n",
       "      <th>2</th>\n",
       "      <td>2016-12-28</td>\n",
       "      <td>43940</td>\n",
       "      <td>43970</td>\n",
       "      <td>43270</td>\n",
       "      <td>43270</td>\n",
       "      <td>339900</td>\n",
       "      <td>14780670000</td>\n",
       "    </tr>\n",
       "    <tr>\n",
       "      <th>3</th>\n",
       "      <td>2016-12-27</td>\n",
       "      <td>43140</td>\n",
       "      <td>43700</td>\n",
       "      <td>43140</td>\n",
       "      <td>43620</td>\n",
       "      <td>400100</td>\n",
       "      <td>17427993000</td>\n",
       "    </tr>\n",
       "    <tr>\n",
       "      <th>4</th>\n",
       "      <td>2016-12-26</td>\n",
       "      <td>43310</td>\n",
       "      <td>43660</td>\n",
       "      <td>43090</td>\n",
       "      <td>43340</td>\n",
       "      <td>358200</td>\n",
       "      <td>15547803000</td>\n",
       "    </tr>\n",
       "    <tr>\n",
       "      <th>...</th>\n",
       "      <td>...</td>\n",
       "      <td>...</td>\n",
       "      <td>...</td>\n",
       "      <td>...</td>\n",
       "      <td>...</td>\n",
       "      <td>...</td>\n",
       "      <td>...</td>\n",
       "    </tr>\n",
       "    <tr>\n",
       "      <th>1221</th>\n",
       "      <td>2012-01-11</td>\n",
       "      <td>14360</td>\n",
       "      <td>14750</td>\n",
       "      <td>14280</td>\n",
       "      <td>14590</td>\n",
       "      <td>1043400</td>\n",
       "      <td>15191988000</td>\n",
       "    </tr>\n",
       "    <tr>\n",
       "      <th>1222</th>\n",
       "      <td>2012-01-10</td>\n",
       "      <td>13890</td>\n",
       "      <td>14390</td>\n",
       "      <td>13860</td>\n",
       "      <td>14390</td>\n",
       "      <td>952300</td>\n",
       "      <td>13533413000</td>\n",
       "    </tr>\n",
       "    <tr>\n",
       "      <th>1223</th>\n",
       "      <td>2012-01-06</td>\n",
       "      <td>13990</td>\n",
       "      <td>14030</td>\n",
       "      <td>13790</td>\n",
       "      <td>13850</td>\n",
       "      <td>765500</td>\n",
       "      <td>10635609000</td>\n",
       "    </tr>\n",
       "    <tr>\n",
       "      <th>1224</th>\n",
       "      <td>2012-01-05</td>\n",
       "      <td>13720</td>\n",
       "      <td>13840</td>\n",
       "      <td>13600</td>\n",
       "      <td>13800</td>\n",
       "      <td>511500</td>\n",
       "      <td>7030811000</td>\n",
       "    </tr>\n",
       "    <tr>\n",
       "      <th>1225</th>\n",
       "      <td>2012-01-04</td>\n",
       "      <td>14050</td>\n",
       "      <td>14050</td>\n",
       "      <td>13700</td>\n",
       "      <td>13720</td>\n",
       "      <td>559100</td>\n",
       "      <td>7719804000</td>\n",
       "    </tr>\n",
       "  </tbody>\n",
       "</table>\n",
       "<p>1226 rows × 7 columns</p>\n",
       "</div>"
      ],
      "text/plain": [
       "            Date   Open   High    Low  Close   Volume  Stock Trading\n",
       "0     2016-12-30  42120  42330  41700  41830   610000    25628028000\n",
       "1     2016-12-29  43000  43220  42540  42660   448400    19188227000\n",
       "2     2016-12-28  43940  43970  43270  43270   339900    14780670000\n",
       "3     2016-12-27  43140  43700  43140  43620   400100    17427993000\n",
       "4     2016-12-26  43310  43660  43090  43340   358200    15547803000\n",
       "...          ...    ...    ...    ...    ...      ...            ...\n",
       "1221  2012-01-11  14360  14750  14280  14590  1043400    15191988000\n",
       "1222  2012-01-10  13890  14390  13860  14390   952300    13533413000\n",
       "1223  2012-01-06  13990  14030  13790  13850   765500    10635609000\n",
       "1224  2012-01-05  13720  13840  13600  13800   511500     7030811000\n",
       "1225  2012-01-04  14050  14050  13700  13720   559100     7719804000\n",
       "\n",
       "[1226 rows x 7 columns]"
      ]
     },
     "execution_count": 285,
     "metadata": {},
     "output_type": "execute_result"
    }
   ],
   "source": [
    "train = pd.read_csv(\"D:/PhD/PAPERS/PAPER 2/final paper/venky_modified/venky_modified/Input data/Train.csv\")\n",
    "type(train)\n",
    "#train.dtype\n",
    "train\n",
    "#train.info()"
   ]
  },
  {
   "cell_type": "code",
   "execution_count": 286,
   "metadata": {
    "colab": {
     "base_uri": "https://localhost:8080/",
     "height": 204
    },
    "id": "03EVcx9lbcWM",
    "outputId": "af7f3d55-5d8d-43e6-9c96-2efacaf0ddfb"
   },
   "outputs": [
    {
     "data": {
      "text/html": [
       "<div>\n",
       "<style scoped>\n",
       "    .dataframe tbody tr th:only-of-type {\n",
       "        vertical-align: middle;\n",
       "    }\n",
       "\n",
       "    .dataframe tbody tr th {\n",
       "        vertical-align: top;\n",
       "    }\n",
       "\n",
       "    .dataframe thead th {\n",
       "        text-align: right;\n",
       "    }\n",
       "</style>\n",
       "<table border=\"1\" class=\"dataframe\">\n",
       "  <thead>\n",
       "    <tr style=\"text-align: right;\">\n",
       "      <th></th>\n",
       "      <th>Date</th>\n",
       "      <th>Open</th>\n",
       "      <th>High</th>\n",
       "      <th>Low</th>\n",
       "      <th>Close</th>\n",
       "      <th>Volume</th>\n",
       "      <th>Stock Trading</th>\n",
       "    </tr>\n",
       "  </thead>\n",
       "  <tbody>\n",
       "    <tr>\n",
       "      <th>0</th>\n",
       "      <td>2016-12-30</td>\n",
       "      <td>42120</td>\n",
       "      <td>42330</td>\n",
       "      <td>41700</td>\n",
       "      <td>41830</td>\n",
       "      <td>610000</td>\n",
       "      <td>25628028000</td>\n",
       "    </tr>\n",
       "    <tr>\n",
       "      <th>1</th>\n",
       "      <td>2016-12-29</td>\n",
       "      <td>43000</td>\n",
       "      <td>43220</td>\n",
       "      <td>42540</td>\n",
       "      <td>42660</td>\n",
       "      <td>448400</td>\n",
       "      <td>19188227000</td>\n",
       "    </tr>\n",
       "    <tr>\n",
       "      <th>2</th>\n",
       "      <td>2016-12-28</td>\n",
       "      <td>43940</td>\n",
       "      <td>43970</td>\n",
       "      <td>43270</td>\n",
       "      <td>43270</td>\n",
       "      <td>339900</td>\n",
       "      <td>14780670000</td>\n",
       "    </tr>\n",
       "    <tr>\n",
       "      <th>3</th>\n",
       "      <td>2016-12-27</td>\n",
       "      <td>43140</td>\n",
       "      <td>43700</td>\n",
       "      <td>43140</td>\n",
       "      <td>43620</td>\n",
       "      <td>400100</td>\n",
       "      <td>17427993000</td>\n",
       "    </tr>\n",
       "    <tr>\n",
       "      <th>4</th>\n",
       "      <td>2016-12-26</td>\n",
       "      <td>43310</td>\n",
       "      <td>43660</td>\n",
       "      <td>43090</td>\n",
       "      <td>43340</td>\n",
       "      <td>358200</td>\n",
       "      <td>15547803000</td>\n",
       "    </tr>\n",
       "  </tbody>\n",
       "</table>\n",
       "</div>"
      ],
      "text/plain": [
       "         Date   Open   High    Low  Close  Volume  Stock Trading\n",
       "0  2016-12-30  42120  42330  41700  41830  610000    25628028000\n",
       "1  2016-12-29  43000  43220  42540  42660  448400    19188227000\n",
       "2  2016-12-28  43940  43970  43270  43270  339900    14780670000\n",
       "3  2016-12-27  43140  43700  43140  43620  400100    17427993000\n",
       "4  2016-12-26  43310  43660  43090  43340  358200    15547803000"
      ]
     },
     "execution_count": 286,
     "metadata": {},
     "output_type": "execute_result"
    }
   ],
   "source": [
    "train.head()"
   ]
  },
  {
   "cell_type": "code",
   "execution_count": 287,
   "metadata": {
    "colab": {
     "base_uri": "https://localhost:8080/",
     "height": 297
    },
    "id": "ykgUs0wNbcWN",
    "outputId": "9be14cf1-0fe4-49f0-a7a0-69803e5efd10"
   },
   "outputs": [
    {
     "data": {
      "text/html": [
       "<div>\n",
       "<style scoped>\n",
       "    .dataframe tbody tr th:only-of-type {\n",
       "        vertical-align: middle;\n",
       "    }\n",
       "\n",
       "    .dataframe tbody tr th {\n",
       "        vertical-align: top;\n",
       "    }\n",
       "\n",
       "    .dataframe thead th {\n",
       "        text-align: right;\n",
       "    }\n",
       "</style>\n",
       "<table border=\"1\" class=\"dataframe\">\n",
       "  <thead>\n",
       "    <tr style=\"text-align: right;\">\n",
       "      <th></th>\n",
       "      <th>Open</th>\n",
       "      <th>High</th>\n",
       "      <th>Low</th>\n",
       "      <th>Close</th>\n",
       "      <th>Volume</th>\n",
       "      <th>Stock Trading</th>\n",
       "    </tr>\n",
       "  </thead>\n",
       "  <tbody>\n",
       "    <tr>\n",
       "      <th>count</th>\n",
       "      <td>1226.000000</td>\n",
       "      <td>1226.000000</td>\n",
       "      <td>1226.000000</td>\n",
       "      <td>1226.000000</td>\n",
       "      <td>1.226000e+03</td>\n",
       "      <td>1.226000e+03</td>\n",
       "    </tr>\n",
       "    <tr>\n",
       "      <th>mean</th>\n",
       "      <td>33754.416803</td>\n",
       "      <td>34178.784666</td>\n",
       "      <td>33347.903752</td>\n",
       "      <td>33760.583197</td>\n",
       "      <td>7.275556e+05</td>\n",
       "      <td>2.440933e+10</td>\n",
       "    </tr>\n",
       "    <tr>\n",
       "      <th>std</th>\n",
       "      <td>10813.440409</td>\n",
       "      <td>10936.326802</td>\n",
       "      <td>10695.664102</td>\n",
       "      <td>10815.661389</td>\n",
       "      <td>4.137178e+05</td>\n",
       "      <td>1.526300e+10</td>\n",
       "    </tr>\n",
       "    <tr>\n",
       "      <th>min</th>\n",
       "      <td>13720.000000</td>\n",
       "      <td>13840.000000</td>\n",
       "      <td>13600.000000</td>\n",
       "      <td>13720.000000</td>\n",
       "      <td>1.391000e+05</td>\n",
       "      <td>3.966140e+09</td>\n",
       "    </tr>\n",
       "    <tr>\n",
       "      <th>25%</th>\n",
       "      <td>27788.750000</td>\n",
       "      <td>28091.250000</td>\n",
       "      <td>27401.250000</td>\n",
       "      <td>27675.000000</td>\n",
       "      <td>4.873000e+05</td>\n",
       "      <td>1.454097e+10</td>\n",
       "    </tr>\n",
       "    <tr>\n",
       "      <th>50%</th>\n",
       "      <td>34445.000000</td>\n",
       "      <td>34835.000000</td>\n",
       "      <td>33925.000000</td>\n",
       "      <td>34412.500000</td>\n",
       "      <td>6.260000e+05</td>\n",
       "      <td>2.153772e+10</td>\n",
       "    </tr>\n",
       "    <tr>\n",
       "      <th>75%</th>\n",
       "      <td>41412.500000</td>\n",
       "      <td>41900.000000</td>\n",
       "      <td>40810.000000</td>\n",
       "      <td>41365.000000</td>\n",
       "      <td>8.267000e+05</td>\n",
       "      <td>3.015922e+10</td>\n",
       "    </tr>\n",
       "    <tr>\n",
       "      <th>max</th>\n",
       "      <td>61550.000000</td>\n",
       "      <td>61970.000000</td>\n",
       "      <td>60740.000000</td>\n",
       "      <td>61930.000000</td>\n",
       "      <td>4.937300e+06</td>\n",
       "      <td>1.460450e+11</td>\n",
       "    </tr>\n",
       "  </tbody>\n",
       "</table>\n",
       "</div>"
      ],
      "text/plain": [
       "               Open          High           Low         Close        Volume  \\\n",
       "count   1226.000000   1226.000000   1226.000000   1226.000000  1.226000e+03   \n",
       "mean   33754.416803  34178.784666  33347.903752  33760.583197  7.275556e+05   \n",
       "std    10813.440409  10936.326802  10695.664102  10815.661389  4.137178e+05   \n",
       "min    13720.000000  13840.000000  13600.000000  13720.000000  1.391000e+05   \n",
       "25%    27788.750000  28091.250000  27401.250000  27675.000000  4.873000e+05   \n",
       "50%    34445.000000  34835.000000  33925.000000  34412.500000  6.260000e+05   \n",
       "75%    41412.500000  41900.000000  40810.000000  41365.000000  8.267000e+05   \n",
       "max    61550.000000  61970.000000  60740.000000  61930.000000  4.937300e+06   \n",
       "\n",
       "       Stock Trading  \n",
       "count   1.226000e+03  \n",
       "mean    2.440933e+10  \n",
       "std     1.526300e+10  \n",
       "min     3.966140e+09  \n",
       "25%     1.454097e+10  \n",
       "50%     2.153772e+10  \n",
       "75%     3.015922e+10  \n",
       "max     1.460450e+11  "
      ]
     },
     "execution_count": 287,
     "metadata": {},
     "output_type": "execute_result"
    }
   ],
   "source": [
    "train.describe()"
   ]
  },
  {
   "cell_type": "code",
   "execution_count": 288,
   "metadata": {
    "colab": {
     "base_uri": "https://localhost:8080/",
     "height": 282
    },
    "id": "39KOb0LEbcWO",
    "outputId": "ff4a8831-ec89-4518-ea6e-f626ca3c4264",
    "scrolled": true
   },
   "outputs": [
    {
     "data": {
      "text/plain": [
       "<AxesSubplot:>"
      ]
     },
     "execution_count": 288,
     "metadata": {},
     "output_type": "execute_result"
    },
    {
     "data": {
      "image/png": "[encoded data removed]",
      "text/plain": [
       "<Figure size 432x288 with 1 Axes>"
      ]
     },
     "metadata": {
      "needs_background": "light"
     },
     "output_type": "display_data"
    }
   ],
   "source": [
    "train['Open'].plot(color='k')"
   ]
  },
  {
   "cell_type": "code",
   "execution_count": 289,
   "metadata": {
    "colab": {
     "base_uri": "https://localhost:8080/",
     "height": 204
    },
    "id": "SF6lW4RbbcWO",
    "outputId": "7257823b-96cc-4705-93c9-6eac78f60710"
   },
   "outputs": [
    {
     "data": {
      "text/html": [
       "<div>\n",
       "<style scoped>\n",
       "    .dataframe tbody tr th:only-of-type {\n",
       "        vertical-align: middle;\n",
       "    }\n",
       "\n",
       "    .dataframe tbody tr th {\n",
       "        vertical-align: top;\n",
       "    }\n",
       "\n",
       "    .dataframe thead th {\n",
       "        text-align: right;\n",
       "    }\n",
       "</style>\n",
       "<table border=\"1\" class=\"dataframe\">\n",
       "  <thead>\n",
       "    <tr style=\"text-align: right;\">\n",
       "      <th></th>\n",
       "      <th>Date</th>\n",
       "      <th>Open</th>\n",
       "      <th>High</th>\n",
       "      <th>Low</th>\n",
       "      <th>Close</th>\n",
       "      <th>Volume</th>\n",
       "      <th>Stock Trading</th>\n",
       "    </tr>\n",
       "  </thead>\n",
       "  <tbody>\n",
       "    <tr>\n",
       "      <th>0</th>\n",
       "      <td>2016-12-30</td>\n",
       "      <td>42120</td>\n",
       "      <td>42330</td>\n",
       "      <td>41700</td>\n",
       "      <td>41830</td>\n",
       "      <td>610000</td>\n",
       "      <td>25628028000</td>\n",
       "    </tr>\n",
       "    <tr>\n",
       "      <th>1</th>\n",
       "      <td>2016-12-29</td>\n",
       "      <td>43000</td>\n",
       "      <td>43220</td>\n",
       "      <td>42540</td>\n",
       "      <td>42660</td>\n",
       "      <td>448400</td>\n",
       "      <td>19188227000</td>\n",
       "    </tr>\n",
       "    <tr>\n",
       "      <th>2</th>\n",
       "      <td>2016-12-28</td>\n",
       "      <td>43940</td>\n",
       "      <td>43970</td>\n",
       "      <td>43270</td>\n",
       "      <td>43270</td>\n",
       "      <td>339900</td>\n",
       "      <td>14780670000</td>\n",
       "    </tr>\n",
       "    <tr>\n",
       "      <th>3</th>\n",
       "      <td>2016-12-27</td>\n",
       "      <td>43140</td>\n",
       "      <td>43700</td>\n",
       "      <td>43140</td>\n",
       "      <td>43620</td>\n",
       "      <td>400100</td>\n",
       "      <td>17427993000</td>\n",
       "    </tr>\n",
       "    <tr>\n",
       "      <th>4</th>\n",
       "      <td>2016-12-26</td>\n",
       "      <td>43310</td>\n",
       "      <td>43660</td>\n",
       "      <td>43090</td>\n",
       "      <td>43340</td>\n",
       "      <td>358200</td>\n",
       "      <td>15547803000</td>\n",
       "    </tr>\n",
       "  </tbody>\n",
       "</table>\n",
       "</div>"
      ],
      "text/plain": [
       "         Date   Open   High    Low  Close  Volume  Stock Trading\n",
       "0  2016-12-30  42120  42330  41700  41830  610000    25628028000\n",
       "1  2016-12-29  43000  43220  42540  42660  448400    19188227000\n",
       "2  2016-12-28  43940  43970  43270  43270  339900    14780670000\n",
       "3  2016-12-27  43140  43700  43140  43620  400100    17427993000\n",
       "4  2016-12-26  43310  43660  43090  43340  358200    15547803000"
      ]
     },
     "execution_count": 289,
     "metadata": {},
     "output_type": "execute_result"
    }
   ],
   "source": [
    " train.head()"
   ]
  },
  {
   "cell_type": "markdown",
   "metadata": {
    "id": "8z6zb6XcbcWP"
   },
   "source": [
    "Seperating the DateTime field to data, month and year into different columns."
   ]
  },
  {
   "cell_type": "code",
   "execution_count": 290,
   "metadata": {
    "id": "Pqk_l8GubcWP"
   },
   "outputs": [],
   "source": [
    "train['Year'] = pd.DatetimeIndex(train['Date']).year\n",
    "train['Month'] = pd.DatetimeIndex(train['Date']).month\n",
    "train['Day'] = pd.DatetimeIndex(train['Date']).day"
   ]
  },
  {
   "cell_type": "code",
   "execution_count": 291,
   "metadata": {
    "colab": {
     "base_uri": "https://localhost:8080/",
     "height": 204
    },
    "id": "RnSggnKwbcWP",
    "outputId": "f2daaa96-4f4b-4d9a-faf0-7f5d5908f939"
   },
   "outputs": [
    {
     "data": {
      "text/html": [
       "<div>\n",
       "<style scoped>\n",
       "    .dataframe tbody tr th:only-of-type {\n",
       "        vertical-align: middle;\n",
       "    }\n",
       "\n",
       "    .dataframe tbody tr th {\n",
       "        vertical-align: top;\n",
       "    }\n",
       "\n",
       "    .dataframe thead th {\n",
       "        text-align: right;\n",
       "    }\n",
       "</style>\n",
       "<table border=\"1\" class=\"dataframe\">\n",
       "  <thead>\n",
       "    <tr style=\"text-align: right;\">\n",
       "      <th></th>\n",
       "      <th>Date</th>\n",
       "      <th>Open</th>\n",
       "      <th>High</th>\n",
       "      <th>Low</th>\n",
       "      <th>Close</th>\n",
       "      <th>Volume</th>\n",
       "      <th>Stock Trading</th>\n",
       "      <th>Year</th>\n",
       "      <th>Month</th>\n",
       "      <th>Day</th>\n",
       "    </tr>\n",
       "  </thead>\n",
       "  <tbody>\n",
       "    <tr>\n",
       "      <th>0</th>\n",
       "      <td>2016-12-30</td>\n",
       "      <td>42120</td>\n",
       "      <td>42330</td>\n",
       "      <td>41700</td>\n",
       "      <td>41830</td>\n",
       "      <td>610000</td>\n",
       "      <td>25628028000</td>\n",
       "      <td>2016</td>\n",
       "      <td>12</td>\n",
       "      <td>30</td>\n",
       "    </tr>\n",
       "    <tr>\n",
       "      <th>1</th>\n",
       "      <td>2016-12-29</td>\n",
       "      <td>43000</td>\n",
       "      <td>43220</td>\n",
       "      <td>42540</td>\n",
       "      <td>42660</td>\n",
       "      <td>448400</td>\n",
       "      <td>19188227000</td>\n",
       "      <td>2016</td>\n",
       "      <td>12</td>\n",
       "      <td>29</td>\n",
       "    </tr>\n",
       "    <tr>\n",
       "      <th>2</th>\n",
       "      <td>2016-12-28</td>\n",
       "      <td>43940</td>\n",
       "      <td>43970</td>\n",
       "      <td>43270</td>\n",
       "      <td>43270</td>\n",
       "      <td>339900</td>\n",
       "      <td>14780670000</td>\n",
       "      <td>2016</td>\n",
       "      <td>12</td>\n",
       "      <td>28</td>\n",
       "    </tr>\n",
       "    <tr>\n",
       "      <th>3</th>\n",
       "      <td>2016-12-27</td>\n",
       "      <td>43140</td>\n",
       "      <td>43700</td>\n",
       "      <td>43140</td>\n",
       "      <td>43620</td>\n",
       "      <td>400100</td>\n",
       "      <td>17427993000</td>\n",
       "      <td>2016</td>\n",
       "      <td>12</td>\n",
       "      <td>27</td>\n",
       "    </tr>\n",
       "    <tr>\n",
       "      <th>4</th>\n",
       "      <td>2016-12-26</td>\n",
       "      <td>43310</td>\n",
       "      <td>43660</td>\n",
       "      <td>43090</td>\n",
       "      <td>43340</td>\n",
       "      <td>358200</td>\n",
       "      <td>15547803000</td>\n",
       "      <td>2016</td>\n",
       "      <td>12</td>\n",
       "      <td>26</td>\n",
       "    </tr>\n",
       "  </tbody>\n",
       "</table>\n",
       "</div>"
      ],
      "text/plain": [
       "         Date   Open   High    Low  Close  Volume  Stock Trading  Year  Month  \\\n",
       "0  2016-12-30  42120  42330  41700  41830  610000    25628028000  2016     12   \n",
       "1  2016-12-29  43000  43220  42540  42660  448400    19188227000  2016     12   \n",
       "2  2016-12-28  43940  43970  43270  43270  339900    14780670000  2016     12   \n",
       "3  2016-12-27  43140  43700  43140  43620  400100    17427993000  2016     12   \n",
       "4  2016-12-26  43310  43660  43090  43340  358200    15547803000  2016     12   \n",
       "\n",
       "   Day  \n",
       "0   30  \n",
       "1   29  \n",
       "2   28  \n",
       "3   27  \n",
       "4   26  "
      ]
     },
     "execution_count": 291,
     "metadata": {},
     "output_type": "execute_result"
    }
   ],
   "source": [
    "train.head()"
   ]
  },
  {
   "cell_type": "markdown",
   "metadata": {
    "id": "Hj_uWT1vbcWQ"
   },
   "source": [
    "Function for dropping of unnecesary features or redundant features"
   ]
  },
  {
   "cell_type": "code",
   "execution_count": 292,
   "metadata": {
    "id": "l7nhNjkZbcWQ"
   },
   "outputs": [],
   "source": [
    "def drop_features(features,data):\n",
    "    data.drop(features,inplace=True,axis=1)"
   ]
  },
  {
   "cell_type": "code",
   "execution_count": 293,
   "metadata": {
    "id": "8Ow7I_6KbcWR"
   },
   "outputs": [],
   "source": [
    "drop_features(['Date'],train)"
   ]
  },
  {
   "cell_type": "markdown",
   "metadata": {
    "id": "qEgTfAgfbcWR"
   },
   "source": [
    "### Applying the TimeSeries Feature Engineering\n",
    "#### Lag Features"
   ]
  },
  {
   "cell_type": "code",
   "execution_count": 294,
   "metadata": {
    "colab": {
     "base_uri": "https://localhost:8080/"
    },
    "id": "FMmLjRRdbcWR",
    "outputId": "3939cfe5-ec90-4a3a-c834-20100737f250"
   },
   "outputs": [
    {
     "data": {
      "text/plain": [
       "(1226, 3)"
      ]
     },
     "execution_count": 294,
     "metadata": {},
     "output_type": "execute_result"
    }
   ],
   "source": [
    "#Applying Lag Features to Opening Price\n",
    "open1 = Series(train['Open'])\n",
    "open_dataframe = concat([open1.shift(-3), open1.shift(-2), open1.shift(-1)], axis=1)\n",
    "open_dataframe.columns = ['O_t-3', 'O_t-2', 'O_t-1']\n",
    "open_dataframe.shape"
   ]
  },
  {
   "cell_type": "code",
   "execution_count": 295,
   "metadata": {
    "colab": {
     "base_uri": "https://localhost:8080/",
     "height": 204
    },
    "id": "t6inEJivbcWS",
    "outputId": "dedc546a-f254-456b-8e46-fe4068c823ad"
   },
   "outputs": [
    {
     "data": {
      "text/html": [
       "<div>\n",
       "<style scoped>\n",
       "    .dataframe tbody tr th:only-of-type {\n",
       "        vertical-align: middle;\n",
       "    }\n",
       "\n",
       "    .dataframe tbody tr th {\n",
       "        vertical-align: top;\n",
       "    }\n",
       "\n",
       "    .dataframe thead th {\n",
       "        text-align: right;\n",
       "    }\n",
       "</style>\n",
       "<table border=\"1\" class=\"dataframe\">\n",
       "  <thead>\n",
       "    <tr style=\"text-align: right;\">\n",
       "      <th></th>\n",
       "      <th>O_t-3</th>\n",
       "      <th>O_t-2</th>\n",
       "      <th>O_t-1</th>\n",
       "    </tr>\n",
       "  </thead>\n",
       "  <tbody>\n",
       "    <tr>\n",
       "      <th>0</th>\n",
       "      <td>43140.0</td>\n",
       "      <td>43940.0</td>\n",
       "      <td>43000.0</td>\n",
       "    </tr>\n",
       "    <tr>\n",
       "      <th>1</th>\n",
       "      <td>43310.0</td>\n",
       "      <td>43140.0</td>\n",
       "      <td>43940.0</td>\n",
       "    </tr>\n",
       "    <tr>\n",
       "      <th>2</th>\n",
       "      <td>43660.0</td>\n",
       "      <td>43310.0</td>\n",
       "      <td>43140.0</td>\n",
       "    </tr>\n",
       "    <tr>\n",
       "      <th>3</th>\n",
       "      <td>43900.0</td>\n",
       "      <td>43660.0</td>\n",
       "      <td>43310.0</td>\n",
       "    </tr>\n",
       "    <tr>\n",
       "      <th>4</th>\n",
       "      <td>42910.0</td>\n",
       "      <td>43900.0</td>\n",
       "      <td>43660.0</td>\n",
       "    </tr>\n",
       "  </tbody>\n",
       "</table>\n",
       "</div>"
      ],
      "text/plain": [
       "     O_t-3    O_t-2    O_t-1\n",
       "0  43140.0  43940.0  43000.0\n",
       "1  43310.0  43140.0  43940.0\n",
       "2  43660.0  43310.0  43140.0\n",
       "3  43900.0  43660.0  43310.0\n",
       "4  42910.0  43900.0  43660.0"
      ]
     },
     "execution_count": 295,
     "metadata": {},
     "output_type": "execute_result"
    }
   ],
   "source": [
    "open_dataframe.head()"
   ]
  },
  {
   "cell_type": "code",
   "execution_count": 296,
   "metadata": {
    "id": "L3B2rMLzbcWS"
   },
   "outputs": [],
   "source": [
    "#combining the train data and the lag features of Temp\n",
    "train1 = pd.concat([train, open_dataframe], axis=1)"
   ]
  },
  {
   "cell_type": "code",
   "execution_count": 297,
   "metadata": {
    "colab": {
     "base_uri": "https://localhost:8080/",
     "height": 204
    },
    "id": "r4Medkq4bcWS",
    "outputId": "e65b7e42-df32-43ae-b1e8-7702a626cb52"
   },
   "outputs": [
    {
     "data": {
      "text/html": [
       "<div>\n",
       "<style scoped>\n",
       "    .dataframe tbody tr th:only-of-type {\n",
       "        vertical-align: middle;\n",
       "    }\n",
       "\n",
       "    .dataframe tbody tr th {\n",
       "        vertical-align: top;\n",
       "    }\n",
       "\n",
       "    .dataframe thead th {\n",
       "        text-align: right;\n",
       "    }\n",
       "</style>\n",
       "<table border=\"1\" class=\"dataframe\">\n",
       "  <thead>\n",
       "    <tr style=\"text-align: right;\">\n",
       "      <th></th>\n",
       "      <th>Open</th>\n",
       "      <th>High</th>\n",
       "      <th>Low</th>\n",
       "      <th>Close</th>\n",
       "      <th>Volume</th>\n",
       "      <th>Stock Trading</th>\n",
       "      <th>Year</th>\n",
       "      <th>Month</th>\n",
       "      <th>Day</th>\n",
       "      <th>O_t-3</th>\n",
       "      <th>O_t-2</th>\n",
       "      <th>O_t-1</th>\n",
       "    </tr>\n",
       "  </thead>\n",
       "  <tbody>\n",
       "    <tr>\n",
       "      <th>0</th>\n",
       "      <td>42120</td>\n",
       "      <td>42330</td>\n",
       "      <td>41700</td>\n",
       "      <td>41830</td>\n",
       "      <td>610000</td>\n",
       "      <td>25628028000</td>\n",
       "      <td>2016</td>\n",
       "      <td>12</td>\n",
       "      <td>30</td>\n",
       "      <td>43140.0</td>\n",
       "      <td>43940.0</td>\n",
       "      <td>43000.0</td>\n",
       "    </tr>\n",
       "    <tr>\n",
       "      <th>1</th>\n",
       "      <td>43000</td>\n",
       "      <td>43220</td>\n",
       "      <td>42540</td>\n",
       "      <td>42660</td>\n",
       "      <td>448400</td>\n",
       "      <td>19188227000</td>\n",
       "      <td>2016</td>\n",
       "      <td>12</td>\n",
       "      <td>29</td>\n",
       "      <td>43310.0</td>\n",
       "      <td>43140.0</td>\n",
       "      <td>43940.0</td>\n",
       "    </tr>\n",
       "    <tr>\n",
       "      <th>2</th>\n",
       "      <td>43940</td>\n",
       "      <td>43970</td>\n",
       "      <td>43270</td>\n",
       "      <td>43270</td>\n",
       "      <td>339900</td>\n",
       "      <td>14780670000</td>\n",
       "      <td>2016</td>\n",
       "      <td>12</td>\n",
       "      <td>28</td>\n",
       "      <td>43660.0</td>\n",
       "      <td>43310.0</td>\n",
       "      <td>43140.0</td>\n",
       "    </tr>\n",
       "    <tr>\n",
       "      <th>3</th>\n",
       "      <td>43140</td>\n",
       "      <td>43700</td>\n",
       "      <td>43140</td>\n",
       "      <td>43620</td>\n",
       "      <td>400100</td>\n",
       "      <td>17427993000</td>\n",
       "      <td>2016</td>\n",
       "      <td>12</td>\n",
       "      <td>27</td>\n",
       "      <td>43900.0</td>\n",
       "      <td>43660.0</td>\n",
       "      <td>43310.0</td>\n",
       "    </tr>\n",
       "    <tr>\n",
       "      <th>4</th>\n",
       "      <td>43310</td>\n",
       "      <td>43660</td>\n",
       "      <td>43090</td>\n",
       "      <td>43340</td>\n",
       "      <td>358200</td>\n",
       "      <td>15547803000</td>\n",
       "      <td>2016</td>\n",
       "      <td>12</td>\n",
       "      <td>26</td>\n",
       "      <td>42910.0</td>\n",
       "      <td>43900.0</td>\n",
       "      <td>43660.0</td>\n",
       "    </tr>\n",
       "  </tbody>\n",
       "</table>\n",
       "</div>"
      ],
      "text/plain": [
       "    Open   High    Low  Close  Volume  Stock Trading  Year  Month  Day  \\\n",
       "0  42120  42330  41700  41830  610000    25628028000  2016     12   30   \n",
       "1  43000  43220  42540  42660  448400    19188227000  2016     12   29   \n",
       "2  43940  43970  43270  43270  339900    14780670000  2016     12   28   \n",
       "3  43140  43700  43140  43620  400100    17427993000  2016     12   27   \n",
       "4  43310  43660  43090  43340  358200    15547803000  2016     12   26   \n",
       "\n",
       "     O_t-3    O_t-2    O_t-1  \n",
       "0  43140.0  43940.0  43000.0  \n",
       "1  43310.0  43140.0  43940.0  \n",
       "2  43660.0  43310.0  43140.0  \n",
       "3  43900.0  43660.0  43310.0  \n",
       "4  42910.0  43900.0  43660.0  "
      ]
     },
     "execution_count": 297,
     "metadata": {},
     "output_type": "execute_result"
    }
   ],
   "source": [
    "train1.head()"
   ]
  },
  {
   "cell_type": "code",
   "execution_count": 298,
   "metadata": {
    "colab": {
     "base_uri": "https://localhost:8080/",
     "height": 204
    },
    "id": "KFRG_h9mbcWT",
    "outputId": "38e12fac-6b79-4742-bc70-9cef515aaa3d"
   },
   "outputs": [
    {
     "data": {
      "text/html": [
       "<div>\n",
       "<style scoped>\n",
       "    .dataframe tbody tr th:only-of-type {\n",
       "        vertical-align: middle;\n",
       "    }\n",
       "\n",
       "    .dataframe tbody tr th {\n",
       "        vertical-align: top;\n",
       "    }\n",
       "\n",
       "    .dataframe thead th {\n",
       "        text-align: right;\n",
       "    }\n",
       "</style>\n",
       "<table border=\"1\" class=\"dataframe\">\n",
       "  <thead>\n",
       "    <tr style=\"text-align: right;\">\n",
       "      <th></th>\n",
       "      <th>Open</th>\n",
       "      <th>High</th>\n",
       "      <th>Low</th>\n",
       "      <th>Close</th>\n",
       "      <th>Volume</th>\n",
       "      <th>Stock Trading</th>\n",
       "      <th>Year</th>\n",
       "      <th>Month</th>\n",
       "      <th>Day</th>\n",
       "      <th>O_t-3</th>\n",
       "      <th>O_t-2</th>\n",
       "      <th>O_t-1</th>\n",
       "    </tr>\n",
       "  </thead>\n",
       "  <tbody>\n",
       "    <tr>\n",
       "      <th>1221</th>\n",
       "      <td>14360</td>\n",
       "      <td>14750</td>\n",
       "      <td>14280</td>\n",
       "      <td>14590</td>\n",
       "      <td>1043400</td>\n",
       "      <td>15191988000</td>\n",
       "      <td>2012</td>\n",
       "      <td>1</td>\n",
       "      <td>11</td>\n",
       "      <td>13720.0</td>\n",
       "      <td>13990.0</td>\n",
       "      <td>13890.0</td>\n",
       "    </tr>\n",
       "    <tr>\n",
       "      <th>1222</th>\n",
       "      <td>13890</td>\n",
       "      <td>14390</td>\n",
       "      <td>13860</td>\n",
       "      <td>14390</td>\n",
       "      <td>952300</td>\n",
       "      <td>13533413000</td>\n",
       "      <td>2012</td>\n",
       "      <td>1</td>\n",
       "      <td>10</td>\n",
       "      <td>14050.0</td>\n",
       "      <td>13720.0</td>\n",
       "      <td>13990.0</td>\n",
       "    </tr>\n",
       "    <tr>\n",
       "      <th>1223</th>\n",
       "      <td>13990</td>\n",
       "      <td>14030</td>\n",
       "      <td>13790</td>\n",
       "      <td>13850</td>\n",
       "      <td>765500</td>\n",
       "      <td>10635609000</td>\n",
       "      <td>2012</td>\n",
       "      <td>1</td>\n",
       "      <td>6</td>\n",
       "      <td>NaN</td>\n",
       "      <td>14050.0</td>\n",
       "      <td>13720.0</td>\n",
       "    </tr>\n",
       "    <tr>\n",
       "      <th>1224</th>\n",
       "      <td>13720</td>\n",
       "      <td>13840</td>\n",
       "      <td>13600</td>\n",
       "      <td>13800</td>\n",
       "      <td>511500</td>\n",
       "      <td>7030811000</td>\n",
       "      <td>2012</td>\n",
       "      <td>1</td>\n",
       "      <td>5</td>\n",
       "      <td>NaN</td>\n",
       "      <td>NaN</td>\n",
       "      <td>14050.0</td>\n",
       "    </tr>\n",
       "    <tr>\n",
       "      <th>1225</th>\n",
       "      <td>14050</td>\n",
       "      <td>14050</td>\n",
       "      <td>13700</td>\n",
       "      <td>13720</td>\n",
       "      <td>559100</td>\n",
       "      <td>7719804000</td>\n",
       "      <td>2012</td>\n",
       "      <td>1</td>\n",
       "      <td>4</td>\n",
       "      <td>NaN</td>\n",
       "      <td>NaN</td>\n",
       "      <td>NaN</td>\n",
       "    </tr>\n",
       "  </tbody>\n",
       "</table>\n",
       "</div>"
      ],
      "text/plain": [
       "       Open   High    Low  Close   Volume  Stock Trading  Year  Month  Day  \\\n",
       "1221  14360  14750  14280  14590  1043400    15191988000  2012      1   11   \n",
       "1222  13890  14390  13860  14390   952300    13533413000  2012      1   10   \n",
       "1223  13990  14030  13790  13850   765500    10635609000  2012      1    6   \n",
       "1224  13720  13840  13600  13800   511500     7030811000  2012      1    5   \n",
       "1225  14050  14050  13700  13720   559100     7719804000  2012      1    4   \n",
       "\n",
       "        O_t-3    O_t-2    O_t-1  \n",
       "1221  13720.0  13990.0  13890.0  \n",
       "1222  14050.0  13720.0  13990.0  \n",
       "1223      NaN  14050.0  13720.0  \n",
       "1224      NaN      NaN  14050.0  \n",
       "1225      NaN      NaN      NaN  "
      ]
     },
     "execution_count": 298,
     "metadata": {},
     "output_type": "execute_result"
    }
   ],
   "source": [
    "train1.tail()"
   ]
  },
  {
   "cell_type": "code",
   "execution_count": 299,
   "metadata": {
    "colab": {
     "base_uri": "https://localhost:8080/"
    },
    "id": "6qiImSPmbcWT",
    "outputId": "82cd5afa-cf96-42e7-e52d-72925ddb914c"
   },
   "outputs": [
    {
     "data": {
      "text/plain": [
       "(1226, 3)"
      ]
     },
     "execution_count": 299,
     "metadata": {},
     "output_type": "execute_result"
    }
   ],
   "source": [
    "#Applying Lag Features to Opening Price\n",
    "close_vals = Series(train['Close'])\n",
    "close_dataframe = concat([close_vals.shift(-3), close_vals.shift(-2), close_vals.shift(-1)], axis=1)\n",
    "close_dataframe.columns = ['C_t-3', 'C_t-2', 'C_t-1']\n",
    "close_dataframe.shape"
   ]
  },
  {
   "cell_type": "code",
   "execution_count": 300,
   "metadata": {
    "id": "XjnUWR9GbcWU"
   },
   "outputs": [],
   "source": [
    "#combining the train data and the lag features of Temp\n",
    "train1 = pd.concat([train1, close_dataframe], axis=1)"
   ]
  },
  {
   "cell_type": "code",
   "execution_count": 301,
   "metadata": {
    "colab": {
     "base_uri": "https://localhost:8080/",
     "height": 204
    },
    "id": "ZwXGncosbcWU",
    "outputId": "2baa1179-c961-4a87-c698-ae5aec740e68"
   },
   "outputs": [
    {
     "data": {
      "text/html": [
       "<div>\n",
       "<style scoped>\n",
       "    .dataframe tbody tr th:only-of-type {\n",
       "        vertical-align: middle;\n",
       "    }\n",
       "\n",
       "    .dataframe tbody tr th {\n",
       "        vertical-align: top;\n",
       "    }\n",
       "\n",
       "    .dataframe thead th {\n",
       "        text-align: right;\n",
       "    }\n",
       "</style>\n",
       "<table border=\"1\" class=\"dataframe\">\n",
       "  <thead>\n",
       "    <tr style=\"text-align: right;\">\n",
       "      <th></th>\n",
       "      <th>Open</th>\n",
       "      <th>High</th>\n",
       "      <th>Low</th>\n",
       "      <th>Close</th>\n",
       "      <th>Volume</th>\n",
       "      <th>Stock Trading</th>\n",
       "      <th>Year</th>\n",
       "      <th>Month</th>\n",
       "      <th>Day</th>\n",
       "      <th>O_t-3</th>\n",
       "      <th>O_t-2</th>\n",
       "      <th>O_t-1</th>\n",
       "      <th>C_t-3</th>\n",
       "      <th>C_t-2</th>\n",
       "      <th>C_t-1</th>\n",
       "    </tr>\n",
       "  </thead>\n",
       "  <tbody>\n",
       "    <tr>\n",
       "      <th>0</th>\n",
       "      <td>42120</td>\n",
       "      <td>42330</td>\n",
       "      <td>41700</td>\n",
       "      <td>41830</td>\n",
       "      <td>610000</td>\n",
       "      <td>25628028000</td>\n",
       "      <td>2016</td>\n",
       "      <td>12</td>\n",
       "      <td>30</td>\n",
       "      <td>43140.0</td>\n",
       "      <td>43940.0</td>\n",
       "      <td>43000.0</td>\n",
       "      <td>43620.0</td>\n",
       "      <td>43270.0</td>\n",
       "      <td>42660.0</td>\n",
       "    </tr>\n",
       "    <tr>\n",
       "      <th>1</th>\n",
       "      <td>43000</td>\n",
       "      <td>43220</td>\n",
       "      <td>42540</td>\n",
       "      <td>42660</td>\n",
       "      <td>448400</td>\n",
       "      <td>19188227000</td>\n",
       "      <td>2016</td>\n",
       "      <td>12</td>\n",
       "      <td>29</td>\n",
       "      <td>43310.0</td>\n",
       "      <td>43140.0</td>\n",
       "      <td>43940.0</td>\n",
       "      <td>43340.0</td>\n",
       "      <td>43620.0</td>\n",
       "      <td>43270.0</td>\n",
       "    </tr>\n",
       "    <tr>\n",
       "      <th>2</th>\n",
       "      <td>43940</td>\n",
       "      <td>43970</td>\n",
       "      <td>43270</td>\n",
       "      <td>43270</td>\n",
       "      <td>339900</td>\n",
       "      <td>14780670000</td>\n",
       "      <td>2016</td>\n",
       "      <td>12</td>\n",
       "      <td>28</td>\n",
       "      <td>43660.0</td>\n",
       "      <td>43310.0</td>\n",
       "      <td>43140.0</td>\n",
       "      <td>43480.0</td>\n",
       "      <td>43340.0</td>\n",
       "      <td>43620.0</td>\n",
       "    </tr>\n",
       "    <tr>\n",
       "      <th>3</th>\n",
       "      <td>43140</td>\n",
       "      <td>43700</td>\n",
       "      <td>43140</td>\n",
       "      <td>43620</td>\n",
       "      <td>400100</td>\n",
       "      <td>17427993000</td>\n",
       "      <td>2016</td>\n",
       "      <td>12</td>\n",
       "      <td>27</td>\n",
       "      <td>43900.0</td>\n",
       "      <td>43660.0</td>\n",
       "      <td>43310.0</td>\n",
       "      <td>44000.0</td>\n",
       "      <td>43480.0</td>\n",
       "      <td>43340.0</td>\n",
       "    </tr>\n",
       "    <tr>\n",
       "      <th>4</th>\n",
       "      <td>43310</td>\n",
       "      <td>43660</td>\n",
       "      <td>43090</td>\n",
       "      <td>43340</td>\n",
       "      <td>358200</td>\n",
       "      <td>15547803000</td>\n",
       "      <td>2016</td>\n",
       "      <td>12</td>\n",
       "      <td>26</td>\n",
       "      <td>42910.0</td>\n",
       "      <td>43900.0</td>\n",
       "      <td>43660.0</td>\n",
       "      <td>43620.0</td>\n",
       "      <td>44000.0</td>\n",
       "      <td>43480.0</td>\n",
       "    </tr>\n",
       "  </tbody>\n",
       "</table>\n",
       "</div>"
      ],
      "text/plain": [
       "    Open   High    Low  Close  Volume  Stock Trading  Year  Month  Day  \\\n",
       "0  42120  42330  41700  41830  610000    25628028000  2016     12   30   \n",
       "1  43000  43220  42540  42660  448400    19188227000  2016     12   29   \n",
       "2  43940  43970  43270  43270  339900    14780670000  2016     12   28   \n",
       "3  43140  43700  43140  43620  400100    17427993000  2016     12   27   \n",
       "4  43310  43660  43090  43340  358200    15547803000  2016     12   26   \n",
       "\n",
       "     O_t-3    O_t-2    O_t-1    C_t-3    C_t-2    C_t-1  \n",
       "0  43140.0  43940.0  43000.0  43620.0  43270.0  42660.0  \n",
       "1  43310.0  43140.0  43940.0  43340.0  43620.0  43270.0  \n",
       "2  43660.0  43310.0  43140.0  43480.0  43340.0  43620.0  \n",
       "3  43900.0  43660.0  43310.0  44000.0  43480.0  43340.0  \n",
       "4  42910.0  43900.0  43660.0  43620.0  44000.0  43480.0  "
      ]
     },
     "execution_count": 301,
     "metadata": {},
     "output_type": "execute_result"
    }
   ],
   "source": [
    "train1.head()"
   ]
  },
  {
   "cell_type": "code",
   "execution_count": 302,
   "metadata": {
    "colab": {
     "base_uri": "https://localhost:8080/",
     "height": 204
    },
    "id": "htMBVvVYbcWU",
    "outputId": "2ed1a852-f857-49e9-af4d-0f964c99f2cb"
   },
   "outputs": [
    {
     "data": {
      "text/html": [
       "<div>\n",
       "<style scoped>\n",
       "    .dataframe tbody tr th:only-of-type {\n",
       "        vertical-align: middle;\n",
       "    }\n",
       "\n",
       "    .dataframe tbody tr th {\n",
       "        vertical-align: top;\n",
       "    }\n",
       "\n",
       "    .dataframe thead th {\n",
       "        text-align: right;\n",
       "    }\n",
       "</style>\n",
       "<table border=\"1\" class=\"dataframe\">\n",
       "  <thead>\n",
       "    <tr style=\"text-align: right;\">\n",
       "      <th></th>\n",
       "      <th>Open</th>\n",
       "      <th>High</th>\n",
       "      <th>Low</th>\n",
       "      <th>Close</th>\n",
       "      <th>Volume</th>\n",
       "      <th>Stock Trading</th>\n",
       "      <th>Year</th>\n",
       "      <th>Month</th>\n",
       "      <th>Day</th>\n",
       "      <th>O_t-3</th>\n",
       "      <th>O_t-2</th>\n",
       "      <th>O_t-1</th>\n",
       "      <th>C_t-3</th>\n",
       "      <th>C_t-2</th>\n",
       "      <th>C_t-1</th>\n",
       "    </tr>\n",
       "  </thead>\n",
       "  <tbody>\n",
       "    <tr>\n",
       "      <th>1221</th>\n",
       "      <td>14360</td>\n",
       "      <td>14750</td>\n",
       "      <td>14280</td>\n",
       "      <td>14590</td>\n",
       "      <td>1043400</td>\n",
       "      <td>15191988000</td>\n",
       "      <td>2012</td>\n",
       "      <td>1</td>\n",
       "      <td>11</td>\n",
       "      <td>13720.0</td>\n",
       "      <td>13990.0</td>\n",
       "      <td>13890.0</td>\n",
       "      <td>13800.0</td>\n",
       "      <td>13850.0</td>\n",
       "      <td>14390.0</td>\n",
       "    </tr>\n",
       "    <tr>\n",
       "      <th>1222</th>\n",
       "      <td>13890</td>\n",
       "      <td>14390</td>\n",
       "      <td>13860</td>\n",
       "      <td>14390</td>\n",
       "      <td>952300</td>\n",
       "      <td>13533413000</td>\n",
       "      <td>2012</td>\n",
       "      <td>1</td>\n",
       "      <td>10</td>\n",
       "      <td>14050.0</td>\n",
       "      <td>13720.0</td>\n",
       "      <td>13990.0</td>\n",
       "      <td>13720.0</td>\n",
       "      <td>13800.0</td>\n",
       "      <td>13850.0</td>\n",
       "    </tr>\n",
       "    <tr>\n",
       "      <th>1223</th>\n",
       "      <td>13990</td>\n",
       "      <td>14030</td>\n",
       "      <td>13790</td>\n",
       "      <td>13850</td>\n",
       "      <td>765500</td>\n",
       "      <td>10635609000</td>\n",
       "      <td>2012</td>\n",
       "      <td>1</td>\n",
       "      <td>6</td>\n",
       "      <td>NaN</td>\n",
       "      <td>14050.0</td>\n",
       "      <td>13720.0</td>\n",
       "      <td>NaN</td>\n",
       "      <td>13720.0</td>\n",
       "      <td>13800.0</td>\n",
       "    </tr>\n",
       "    <tr>\n",
       "      <th>1224</th>\n",
       "      <td>13720</td>\n",
       "      <td>13840</td>\n",
       "      <td>13600</td>\n",
       "      <td>13800</td>\n",
       "      <td>511500</td>\n",
       "      <td>7030811000</td>\n",
       "      <td>2012</td>\n",
       "      <td>1</td>\n",
       "      <td>5</td>\n",
       "      <td>NaN</td>\n",
       "      <td>NaN</td>\n",
       "      <td>14050.0</td>\n",
       "      <td>NaN</td>\n",
       "      <td>NaN</td>\n",
       "      <td>13720.0</td>\n",
       "    </tr>\n",
       "    <tr>\n",
       "      <th>1225</th>\n",
       "      <td>14050</td>\n",
       "      <td>14050</td>\n",
       "      <td>13700</td>\n",
       "      <td>13720</td>\n",
       "      <td>559100</td>\n",
       "      <td>7719804000</td>\n",
       "      <td>2012</td>\n",
       "      <td>1</td>\n",
       "      <td>4</td>\n",
       "      <td>NaN</td>\n",
       "      <td>NaN</td>\n",
       "      <td>NaN</td>\n",
       "      <td>NaN</td>\n",
       "      <td>NaN</td>\n",
       "      <td>NaN</td>\n",
       "    </tr>\n",
       "  </tbody>\n",
       "</table>\n",
       "</div>"
      ],
      "text/plain": [
       "       Open   High    Low  Close   Volume  Stock Trading  Year  Month  Day  \\\n",
       "1221  14360  14750  14280  14590  1043400    15191988000  2012      1   11   \n",
       "1222  13890  14390  13860  14390   952300    13533413000  2012      1   10   \n",
       "1223  13990  14030  13790  13850   765500    10635609000  2012      1    6   \n",
       "1224  13720  13840  13600  13800   511500     7030811000  2012      1    5   \n",
       "1225  14050  14050  13700  13720   559100     7719804000  2012      1    4   \n",
       "\n",
       "        O_t-3    O_t-2    O_t-1    C_t-3    C_t-2    C_t-1  \n",
       "1221  13720.0  13990.0  13890.0  13800.0  13850.0  14390.0  \n",
       "1222  14050.0  13720.0  13990.0  13720.0  13800.0  13850.0  \n",
       "1223      NaN  14050.0  13720.0      NaN  13720.0  13800.0  \n",
       "1224      NaN      NaN  14050.0      NaN      NaN  13720.0  \n",
       "1225      NaN      NaN      NaN      NaN      NaN      NaN  "
      ]
     },
     "execution_count": 302,
     "metadata": {},
     "output_type": "execute_result"
    }
   ],
   "source": [
    "train1.tail()"
   ]
  },
  {
   "cell_type": "code",
   "execution_count": 303,
   "metadata": {
    "id": "RojmyLCBbcWU"
   },
   "outputs": [],
   "source": [
    "#dropping null value rows\n",
    "train1.dropna(inplace = True)"
   ]
  },
  {
   "cell_type": "code",
   "execution_count": 304,
   "metadata": {
    "colab": {
     "base_uri": "https://localhost:8080/",
     "height": 204
    },
    "id": "BMSRnIsYbcWV",
    "outputId": "b12df397-b082-4451-ff3b-7f41c538f81b"
   },
   "outputs": [
    {
     "data": {
      "text/html": [
       "<div>\n",
       "<style scoped>\n",
       "    .dataframe tbody tr th:only-of-type {\n",
       "        vertical-align: middle;\n",
       "    }\n",
       "\n",
       "    .dataframe tbody tr th {\n",
       "        vertical-align: top;\n",
       "    }\n",
       "\n",
       "    .dataframe thead th {\n",
       "        text-align: right;\n",
       "    }\n",
       "</style>\n",
       "<table border=\"1\" class=\"dataframe\">\n",
       "  <thead>\n",
       "    <tr style=\"text-align: right;\">\n",
       "      <th></th>\n",
       "      <th>Open</th>\n",
       "      <th>High</th>\n",
       "      <th>Low</th>\n",
       "      <th>Close</th>\n",
       "      <th>Volume</th>\n",
       "      <th>Stock Trading</th>\n",
       "      <th>Year</th>\n",
       "      <th>Month</th>\n",
       "      <th>Day</th>\n",
       "      <th>O_t-3</th>\n",
       "      <th>O_t-2</th>\n",
       "      <th>O_t-1</th>\n",
       "      <th>C_t-3</th>\n",
       "      <th>C_t-2</th>\n",
       "      <th>C_t-1</th>\n",
       "    </tr>\n",
       "  </thead>\n",
       "  <tbody>\n",
       "    <tr>\n",
       "      <th>1218</th>\n",
       "      <td>14610</td>\n",
       "      <td>14670</td>\n",
       "      <td>14530</td>\n",
       "      <td>14610</td>\n",
       "      <td>360100</td>\n",
       "      <td>5255652000</td>\n",
       "      <td>2012</td>\n",
       "      <td>1</td>\n",
       "      <td>16</td>\n",
       "      <td>14360.0</td>\n",
       "      <td>14520.0</td>\n",
       "      <td>14740.0</td>\n",
       "      <td>14590.0</td>\n",
       "      <td>14520.0</td>\n",
       "      <td>14770.0</td>\n",
       "    </tr>\n",
       "    <tr>\n",
       "      <th>1219</th>\n",
       "      <td>14740</td>\n",
       "      <td>14780</td>\n",
       "      <td>14450</td>\n",
       "      <td>14770</td>\n",
       "      <td>1543700</td>\n",
       "      <td>22669096000</td>\n",
       "      <td>2012</td>\n",
       "      <td>1</td>\n",
       "      <td>13</td>\n",
       "      <td>13890.0</td>\n",
       "      <td>14360.0</td>\n",
       "      <td>14520.0</td>\n",
       "      <td>14390.0</td>\n",
       "      <td>14590.0</td>\n",
       "      <td>14520.0</td>\n",
       "    </tr>\n",
       "    <tr>\n",
       "      <th>1220</th>\n",
       "      <td>14520</td>\n",
       "      <td>14600</td>\n",
       "      <td>14330</td>\n",
       "      <td>14520</td>\n",
       "      <td>540500</td>\n",
       "      <td>7814121000</td>\n",
       "      <td>2012</td>\n",
       "      <td>1</td>\n",
       "      <td>12</td>\n",
       "      <td>13990.0</td>\n",
       "      <td>13890.0</td>\n",
       "      <td>14360.0</td>\n",
       "      <td>13850.0</td>\n",
       "      <td>14390.0</td>\n",
       "      <td>14590.0</td>\n",
       "    </tr>\n",
       "    <tr>\n",
       "      <th>1221</th>\n",
       "      <td>14360</td>\n",
       "      <td>14750</td>\n",
       "      <td>14280</td>\n",
       "      <td>14590</td>\n",
       "      <td>1043400</td>\n",
       "      <td>15191988000</td>\n",
       "      <td>2012</td>\n",
       "      <td>1</td>\n",
       "      <td>11</td>\n",
       "      <td>13720.0</td>\n",
       "      <td>13990.0</td>\n",
       "      <td>13890.0</td>\n",
       "      <td>13800.0</td>\n",
       "      <td>13850.0</td>\n",
       "      <td>14390.0</td>\n",
       "    </tr>\n",
       "    <tr>\n",
       "      <th>1222</th>\n",
       "      <td>13890</td>\n",
       "      <td>14390</td>\n",
       "      <td>13860</td>\n",
       "      <td>14390</td>\n",
       "      <td>952300</td>\n",
       "      <td>13533413000</td>\n",
       "      <td>2012</td>\n",
       "      <td>1</td>\n",
       "      <td>10</td>\n",
       "      <td>14050.0</td>\n",
       "      <td>13720.0</td>\n",
       "      <td>13990.0</td>\n",
       "      <td>13720.0</td>\n",
       "      <td>13800.0</td>\n",
       "      <td>13850.0</td>\n",
       "    </tr>\n",
       "  </tbody>\n",
       "</table>\n",
       "</div>"
      ],
      "text/plain": [
       "       Open   High    Low  Close   Volume  Stock Trading  Year  Month  Day  \\\n",
       "1218  14610  14670  14530  14610   360100     5255652000  2012      1   16   \n",
       "1219  14740  14780  14450  14770  1543700    22669096000  2012      1   13   \n",
       "1220  14520  14600  14330  14520   540500     7814121000  2012      1   12   \n",
       "1221  14360  14750  14280  14590  1043400    15191988000  2012      1   11   \n",
       "1222  13890  14390  13860  14390   952300    13533413000  2012      1   10   \n",
       "\n",
       "        O_t-3    O_t-2    O_t-1    C_t-3    C_t-2    C_t-1  \n",
       "1218  14360.0  14520.0  14740.0  14590.0  14520.0  14770.0  \n",
       "1219  13890.0  14360.0  14520.0  14390.0  14590.0  14520.0  \n",
       "1220  13990.0  13890.0  14360.0  13850.0  14390.0  14590.0  \n",
       "1221  13720.0  13990.0  13890.0  13800.0  13850.0  14390.0  \n",
       "1222  14050.0  13720.0  13990.0  13720.0  13800.0  13850.0  "
      ]
     },
     "execution_count": 304,
     "metadata": {},
     "output_type": "execute_result"
    }
   ],
   "source": [
    "train1.tail()"
   ]
  },
  {
   "cell_type": "code",
   "execution_count": 305,
   "metadata": {
    "colab": {
     "base_uri": "https://localhost:8080/"
    },
    "id": "zWmWcKEfbcWV",
    "outputId": "43f7e80b-ddd3-4ab3-8f80-f2508ec6a0f0"
   },
   "outputs": [
    {
     "data": {
      "text/plain": [
       "(1223, 15)"
      ]
     },
     "execution_count": 305,
     "metadata": {},
     "output_type": "execute_result"
    }
   ],
   "source": [
    "train1.shape"
   ]
  },
  {
   "cell_type": "code",
   "execution_count": 306,
   "metadata": {
    "id": "Ngdc4HPFbcWV"
   },
   "outputs": [],
   "source": [
    "#since for combining of data, both should have same number of rows. hence, removing the extra row\n",
    "#train1.drop(train1.head(1).index, inplace=True)\n",
    "#train1.shape"
   ]
  },
  {
   "cell_type": "markdown",
   "metadata": {
    "id": "moGoCN0zbcWV"
   },
   "source": [
    "#### Rolling Window Statistics"
   ]
  },
  {
   "cell_type": "code",
   "execution_count": 307,
   "metadata": {
    "id": "jtbHEzjTbcWW"
   },
   "outputs": [],
   "source": [
    "# Appling window Features for the Highest Value Feature\n",
    "high = train['High']\n",
    "w = 30"
   ]
  },
  {
   "cell_type": "code",
   "execution_count": 308,
   "metadata": {
    "id": "xsQ-nDtnbcWW"
   },
   "outputs": [],
   "source": [
    "shift = high.shift(-w+1)"
   ]
  },
  {
   "cell_type": "code",
   "execution_count": 309,
   "metadata": {
    "colab": {
     "base_uri": "https://localhost:8080/"
    },
    "id": "dLIeHIhHbcWW",
    "outputId": "84f3b1a6-5bff-47a9-9ab3-cac4d722065e"
   },
   "outputs": [
    {
     "data": {
      "text/plain": [
       "0    42330\n",
       "1    43220\n",
       "2    43970\n",
       "3    43700\n",
       "4    43660\n",
       "Name: High, dtype: int64"
      ]
     },
     "execution_count": 309,
     "metadata": {},
     "output_type": "execute_result"
    }
   ],
   "source": [
    "train['High'].head()"
   ]
  },
  {
   "cell_type": "code",
   "execution_count": 310,
   "metadata": {
    "colab": {
     "base_uri": "https://localhost:8080/"
    },
    "id": "1BUCFs1AbcWW",
    "outputId": "8e068d36-f3dd-48c1-b520-12f52624a681"
   },
   "outputs": [
    {
     "data": {
      "text/plain": [
       "0    39710.0\n",
       "1    39750.0\n",
       "2    38980.0\n",
       "3    38690.0\n",
       "4    37940.0\n",
       "Name: High, dtype: float64"
      ]
     },
     "execution_count": 310,
     "metadata": {},
     "output_type": "execute_result"
    }
   ],
   "source": [
    "shift.head()"
   ]
  },
  {
   "cell_type": "code",
   "execution_count": 311,
   "metadata": {
    "id": "Je0rD-fEbcWW"
   },
   "outputs": [],
   "source": [
    "window = shift.rolling(window=w)\n"
   ]
  },
  {
   "cell_type": "code",
   "execution_count": 312,
   "metadata": {
    "colab": {
     "base_uri": "https://localhost:8080/"
    },
    "id": "GIAZzryxbcWX",
    "outputId": "afc8990d-4ea2-4092-8b5a-e17cb92eff71"
   },
   "outputs": [
    {
     "data": {
      "text/plain": [
       "pandas.core.window.rolling.Rolling"
      ]
     },
     "execution_count": 312,
     "metadata": {},
     "output_type": "execute_result"
    }
   ],
   "source": [
    "type(window)"
   ]
  },
  {
   "cell_type": "code",
   "execution_count": 313,
   "metadata": {
    "colab": {
     "base_uri": "https://localhost:8080/"
    },
    "id": "Hxmkpv4dbcWX",
    "outputId": "520472c4-2504-45a4-89c8-af58ba220a17"
   },
   "outputs": [
    {
     "data": {
      "text/plain": [
       "0   NaN\n",
       "1   NaN\n",
       "2   NaN\n",
       "3   NaN\n",
       "4   NaN\n",
       "Name: High, dtype: float64"
      ]
     },
     "execution_count": 313,
     "metadata": {},
     "output_type": "execute_result"
    }
   ],
   "source": [
    "window.min().head()"
   ]
  },
  {
   "cell_type": "code",
   "execution_count": 314,
   "metadata": {
    "colab": {
     "base_uri": "https://localhost:8080/"
    },
    "id": "YaZ63RSsbcWX",
    "outputId": "493b6461-a541-42dd-aa40-a080a9782171"
   },
   "outputs": [
    {
     "data": {
      "text/plain": [
       "1176    15480.0\n",
       "1177    15250.0\n",
       "1178    15200.0\n",
       "1179    15200.0\n",
       "1180    15030.0\n",
       "1181    15020.0\n",
       "1182    15020.0\n",
       "1183    15020.0\n",
       "1184    14790.0\n",
       "1185    14790.0\n",
       "1186    14790.0\n",
       "1187    14790.0\n",
       "1188    14790.0\n",
       "1189    14670.0\n",
       "1190    14670.0\n",
       "1191    14600.0\n",
       "1192    14600.0\n",
       "1193    14390.0\n",
       "1194    14030.0\n",
       "1195    13840.0\n",
       "1196    13840.0\n",
       "1197        NaN\n",
       "1198        NaN\n",
       "1199        NaN\n",
       "1200        NaN\n",
       "1201        NaN\n",
       "1202        NaN\n",
       "1203        NaN\n",
       "1204        NaN\n",
       "1205        NaN\n",
       "1206        NaN\n",
       "1207        NaN\n",
       "1208        NaN\n",
       "1209        NaN\n",
       "1210        NaN\n",
       "1211        NaN\n",
       "1212        NaN\n",
       "1213        NaN\n",
       "1214        NaN\n",
       "1215        NaN\n",
       "1216        NaN\n",
       "1217        NaN\n",
       "1218        NaN\n",
       "1219        NaN\n",
       "1220        NaN\n",
       "1221        NaN\n",
       "1222        NaN\n",
       "1223        NaN\n",
       "1224        NaN\n",
       "1225        NaN\n",
       "Name: High, dtype: float64"
      ]
     },
     "execution_count": 314,
     "metadata": {},
     "output_type": "execute_result"
    }
   ],
   "source": [
    "window.min().tail(50)"
   ]
  },
  {
   "cell_type": "code",
   "execution_count": 315,
   "metadata": {
    "id": "vwA1k1zzbcWX"
   },
   "outputs": [],
   "source": [
    "df = concat([window.min(), window.mean(), window.max(), high], axis=1)\n",
    "df.columns = ['min', 'mean', 'max', 'high']"
   ]
  },
  {
   "cell_type": "code",
   "execution_count": 316,
   "metadata": {
    "colab": {
     "base_uri": "https://localhost:8080/",
     "height": 204
    },
    "id": "r9NaB0dcbcWY",
    "outputId": "61832816-6601-4f17-c661-55527bf6314f"
   },
   "outputs": [
    {
     "data": {
      "text/html": [
       "<div>\n",
       "<style scoped>\n",
       "    .dataframe tbody tr th:only-of-type {\n",
       "        vertical-align: middle;\n",
       "    }\n",
       "\n",
       "    .dataframe tbody tr th {\n",
       "        vertical-align: top;\n",
       "    }\n",
       "\n",
       "    .dataframe thead th {\n",
       "        text-align: right;\n",
       "    }\n",
       "</style>\n",
       "<table border=\"1\" class=\"dataframe\">\n",
       "  <thead>\n",
       "    <tr style=\"text-align: right;\">\n",
       "      <th></th>\n",
       "      <th>min</th>\n",
       "      <th>mean</th>\n",
       "      <th>max</th>\n",
       "      <th>high</th>\n",
       "    </tr>\n",
       "  </thead>\n",
       "  <tbody>\n",
       "    <tr>\n",
       "      <th>0</th>\n",
       "      <td>NaN</td>\n",
       "      <td>NaN</td>\n",
       "      <td>NaN</td>\n",
       "      <td>42330</td>\n",
       "    </tr>\n",
       "    <tr>\n",
       "      <th>1</th>\n",
       "      <td>NaN</td>\n",
       "      <td>NaN</td>\n",
       "      <td>NaN</td>\n",
       "      <td>43220</td>\n",
       "    </tr>\n",
       "    <tr>\n",
       "      <th>2</th>\n",
       "      <td>NaN</td>\n",
       "      <td>NaN</td>\n",
       "      <td>NaN</td>\n",
       "      <td>43970</td>\n",
       "    </tr>\n",
       "    <tr>\n",
       "      <th>3</th>\n",
       "      <td>NaN</td>\n",
       "      <td>NaN</td>\n",
       "      <td>NaN</td>\n",
       "      <td>43700</td>\n",
       "    </tr>\n",
       "    <tr>\n",
       "      <th>4</th>\n",
       "      <td>NaN</td>\n",
       "      <td>NaN</td>\n",
       "      <td>NaN</td>\n",
       "      <td>43660</td>\n",
       "    </tr>\n",
       "  </tbody>\n",
       "</table>\n",
       "</div>"
      ],
      "text/plain": [
       "   min  mean  max   high\n",
       "0  NaN   NaN  NaN  42330\n",
       "1  NaN   NaN  NaN  43220\n",
       "2  NaN   NaN  NaN  43970\n",
       "3  NaN   NaN  NaN  43700\n",
       "4  NaN   NaN  NaN  43660"
      ]
     },
     "execution_count": 316,
     "metadata": {},
     "output_type": "execute_result"
    }
   ],
   "source": [
    "df.head()"
   ]
  },
  {
   "cell_type": "code",
   "execution_count": 317,
   "metadata": {
    "colab": {
     "base_uri": "https://localhost:8080/"
    },
    "id": "AbBwdtzabcWY",
    "outputId": "442f1e0e-34af-4b5d-a615-9df6a7e08c7b"
   },
   "outputs": [
    {
     "data": {
      "text/plain": [
       "(1168, 4)"
      ]
     },
     "execution_count": 317,
     "metadata": {},
     "output_type": "execute_result"
    }
   ],
   "source": [
    "#dropping null values\n",
    "df.dropna(inplace = True)\n",
    "df.shape"
   ]
  },
  {
   "cell_type": "code",
   "execution_count": 318,
   "metadata": {
    "id": "Qlm1t4QxbcWY"
   },
   "outputs": [],
   "source": [
    "#combining the train1 and the rolling window features\n",
    "train2 = pd.concat([train1, df], axis=1)"
   ]
  },
  {
   "cell_type": "code",
   "execution_count": 319,
   "metadata": {
    "colab": {
     "base_uri": "https://localhost:8080/",
     "height": 241
    },
    "id": "Tqv79GwnbcWY",
    "outputId": "9b5913ac-5e6a-48bb-c581-745efd37f438"
   },
   "outputs": [
    {
     "data": {
      "text/html": [
       "<div>\n",
       "<style scoped>\n",
       "    .dataframe tbody tr th:only-of-type {\n",
       "        vertical-align: middle;\n",
       "    }\n",
       "\n",
       "    .dataframe tbody tr th {\n",
       "        vertical-align: top;\n",
       "    }\n",
       "\n",
       "    .dataframe thead th {\n",
       "        text-align: right;\n",
       "    }\n",
       "</style>\n",
       "<table border=\"1\" class=\"dataframe\">\n",
       "  <thead>\n",
       "    <tr style=\"text-align: right;\">\n",
       "      <th></th>\n",
       "      <th>Open</th>\n",
       "      <th>High</th>\n",
       "      <th>Low</th>\n",
       "      <th>Close</th>\n",
       "      <th>Volume</th>\n",
       "      <th>Stock Trading</th>\n",
       "      <th>Year</th>\n",
       "      <th>Month</th>\n",
       "      <th>Day</th>\n",
       "      <th>O_t-3</th>\n",
       "      <th>O_t-2</th>\n",
       "      <th>O_t-1</th>\n",
       "      <th>C_t-3</th>\n",
       "      <th>C_t-2</th>\n",
       "      <th>C_t-1</th>\n",
       "      <th>min</th>\n",
       "      <th>mean</th>\n",
       "      <th>max</th>\n",
       "      <th>high</th>\n",
       "    </tr>\n",
       "  </thead>\n",
       "  <tbody>\n",
       "    <tr>\n",
       "      <th>0</th>\n",
       "      <td>42120</td>\n",
       "      <td>42330</td>\n",
       "      <td>41700</td>\n",
       "      <td>41830</td>\n",
       "      <td>610000</td>\n",
       "      <td>25628028000</td>\n",
       "      <td>2016</td>\n",
       "      <td>12</td>\n",
       "      <td>30</td>\n",
       "      <td>43140.0</td>\n",
       "      <td>43940.0</td>\n",
       "      <td>43000.0</td>\n",
       "      <td>43620.0</td>\n",
       "      <td>43270.0</td>\n",
       "      <td>42660.0</td>\n",
       "      <td>NaN</td>\n",
       "      <td>NaN</td>\n",
       "      <td>NaN</td>\n",
       "      <td>NaN</td>\n",
       "    </tr>\n",
       "    <tr>\n",
       "      <th>1</th>\n",
       "      <td>43000</td>\n",
       "      <td>43220</td>\n",
       "      <td>42540</td>\n",
       "      <td>42660</td>\n",
       "      <td>448400</td>\n",
       "      <td>19188227000</td>\n",
       "      <td>2016</td>\n",
       "      <td>12</td>\n",
       "      <td>29</td>\n",
       "      <td>43310.0</td>\n",
       "      <td>43140.0</td>\n",
       "      <td>43940.0</td>\n",
       "      <td>43340.0</td>\n",
       "      <td>43620.0</td>\n",
       "      <td>43270.0</td>\n",
       "      <td>NaN</td>\n",
       "      <td>NaN</td>\n",
       "      <td>NaN</td>\n",
       "      <td>NaN</td>\n",
       "    </tr>\n",
       "    <tr>\n",
       "      <th>2</th>\n",
       "      <td>43940</td>\n",
       "      <td>43970</td>\n",
       "      <td>43270</td>\n",
       "      <td>43270</td>\n",
       "      <td>339900</td>\n",
       "      <td>14780670000</td>\n",
       "      <td>2016</td>\n",
       "      <td>12</td>\n",
       "      <td>28</td>\n",
       "      <td>43660.0</td>\n",
       "      <td>43310.0</td>\n",
       "      <td>43140.0</td>\n",
       "      <td>43480.0</td>\n",
       "      <td>43340.0</td>\n",
       "      <td>43620.0</td>\n",
       "      <td>NaN</td>\n",
       "      <td>NaN</td>\n",
       "      <td>NaN</td>\n",
       "      <td>NaN</td>\n",
       "    </tr>\n",
       "    <tr>\n",
       "      <th>3</th>\n",
       "      <td>43140</td>\n",
       "      <td>43700</td>\n",
       "      <td>43140</td>\n",
       "      <td>43620</td>\n",
       "      <td>400100</td>\n",
       "      <td>17427993000</td>\n",
       "      <td>2016</td>\n",
       "      <td>12</td>\n",
       "      <td>27</td>\n",
       "      <td>43900.0</td>\n",
       "      <td>43660.0</td>\n",
       "      <td>43310.0</td>\n",
       "      <td>44000.0</td>\n",
       "      <td>43480.0</td>\n",
       "      <td>43340.0</td>\n",
       "      <td>NaN</td>\n",
       "      <td>NaN</td>\n",
       "      <td>NaN</td>\n",
       "      <td>NaN</td>\n",
       "    </tr>\n",
       "    <tr>\n",
       "      <th>4</th>\n",
       "      <td>43310</td>\n",
       "      <td>43660</td>\n",
       "      <td>43090</td>\n",
       "      <td>43340</td>\n",
       "      <td>358200</td>\n",
       "      <td>15547803000</td>\n",
       "      <td>2016</td>\n",
       "      <td>12</td>\n",
       "      <td>26</td>\n",
       "      <td>42910.0</td>\n",
       "      <td>43900.0</td>\n",
       "      <td>43660.0</td>\n",
       "      <td>43620.0</td>\n",
       "      <td>44000.0</td>\n",
       "      <td>43480.0</td>\n",
       "      <td>NaN</td>\n",
       "      <td>NaN</td>\n",
       "      <td>NaN</td>\n",
       "      <td>NaN</td>\n",
       "    </tr>\n",
       "  </tbody>\n",
       "</table>\n",
       "</div>"
      ],
      "text/plain": [
       "    Open   High    Low  Close  Volume  Stock Trading  Year  Month  Day  \\\n",
       "0  42120  42330  41700  41830  610000    25628028000  2016     12   30   \n",
       "1  43000  43220  42540  42660  448400    19188227000  2016     12   29   \n",
       "2  43940  43970  43270  43270  339900    14780670000  2016     12   28   \n",
       "3  43140  43700  43140  43620  400100    17427993000  2016     12   27   \n",
       "4  43310  43660  43090  43340  358200    15547803000  2016     12   26   \n",
       "\n",
       "     O_t-3    O_t-2    O_t-1    C_t-3    C_t-2    C_t-1  min  mean  max  high  \n",
       "0  43140.0  43940.0  43000.0  43620.0  43270.0  42660.0  NaN   NaN  NaN   NaN  \n",
       "1  43310.0  43140.0  43940.0  43340.0  43620.0  43270.0  NaN   NaN  NaN   NaN  \n",
       "2  43660.0  43310.0  43140.0  43480.0  43340.0  43620.0  NaN   NaN  NaN   NaN  \n",
       "3  43900.0  43660.0  43310.0  44000.0  43480.0  43340.0  NaN   NaN  NaN   NaN  \n",
       "4  42910.0  43900.0  43660.0  43620.0  44000.0  43480.0  NaN   NaN  NaN   NaN  "
      ]
     },
     "execution_count": 319,
     "metadata": {},
     "output_type": "execute_result"
    }
   ],
   "source": [
    "train2.head()"
   ]
  },
  {
   "cell_type": "code",
   "execution_count": 320,
   "metadata": {
    "id": "1q0m01gdbcWY"
   },
   "outputs": [],
   "source": [
    "#Dropping the High feature(redundant)\n",
    "drop_features(['High'],train2)"
   ]
  },
  {
   "cell_type": "code",
   "execution_count": 321,
   "metadata": {
    "colab": {
     "base_uri": "https://localhost:8080/",
     "height": 241
    },
    "id": "aqcyAfu0bcWZ",
    "outputId": "4db18b94-ea49-42b4-ce67-4e41f64d01be"
   },
   "outputs": [
    {
     "data": {
      "text/html": [
       "<div>\n",
       "<style scoped>\n",
       "    .dataframe tbody tr th:only-of-type {\n",
       "        vertical-align: middle;\n",
       "    }\n",
       "\n",
       "    .dataframe tbody tr th {\n",
       "        vertical-align: top;\n",
       "    }\n",
       "\n",
       "    .dataframe thead th {\n",
       "        text-align: right;\n",
       "    }\n",
       "</style>\n",
       "<table border=\"1\" class=\"dataframe\">\n",
       "  <thead>\n",
       "    <tr style=\"text-align: right;\">\n",
       "      <th></th>\n",
       "      <th>Open</th>\n",
       "      <th>Low</th>\n",
       "      <th>Close</th>\n",
       "      <th>Volume</th>\n",
       "      <th>Stock Trading</th>\n",
       "      <th>Year</th>\n",
       "      <th>Month</th>\n",
       "      <th>Day</th>\n",
       "      <th>O_t-3</th>\n",
       "      <th>O_t-2</th>\n",
       "      <th>O_t-1</th>\n",
       "      <th>C_t-3</th>\n",
       "      <th>C_t-2</th>\n",
       "      <th>C_t-1</th>\n",
       "      <th>min</th>\n",
       "      <th>mean</th>\n",
       "      <th>max</th>\n",
       "      <th>high</th>\n",
       "    </tr>\n",
       "  </thead>\n",
       "  <tbody>\n",
       "    <tr>\n",
       "      <th>1218</th>\n",
       "      <td>14610</td>\n",
       "      <td>14530</td>\n",
       "      <td>14610</td>\n",
       "      <td>360100</td>\n",
       "      <td>5255652000</td>\n",
       "      <td>2012</td>\n",
       "      <td>1</td>\n",
       "      <td>16</td>\n",
       "      <td>14360.0</td>\n",
       "      <td>14520.0</td>\n",
       "      <td>14740.0</td>\n",
       "      <td>14590.0</td>\n",
       "      <td>14520.0</td>\n",
       "      <td>14770.0</td>\n",
       "      <td>NaN</td>\n",
       "      <td>NaN</td>\n",
       "      <td>NaN</td>\n",
       "      <td>NaN</td>\n",
       "    </tr>\n",
       "    <tr>\n",
       "      <th>1219</th>\n",
       "      <td>14740</td>\n",
       "      <td>14450</td>\n",
       "      <td>14770</td>\n",
       "      <td>1543700</td>\n",
       "      <td>22669096000</td>\n",
       "      <td>2012</td>\n",
       "      <td>1</td>\n",
       "      <td>13</td>\n",
       "      <td>13890.0</td>\n",
       "      <td>14360.0</td>\n",
       "      <td>14520.0</td>\n",
       "      <td>14390.0</td>\n",
       "      <td>14590.0</td>\n",
       "      <td>14520.0</td>\n",
       "      <td>NaN</td>\n",
       "      <td>NaN</td>\n",
       "      <td>NaN</td>\n",
       "      <td>NaN</td>\n",
       "    </tr>\n",
       "    <tr>\n",
       "      <th>1220</th>\n",
       "      <td>14520</td>\n",
       "      <td>14330</td>\n",
       "      <td>14520</td>\n",
       "      <td>540500</td>\n",
       "      <td>7814121000</td>\n",
       "      <td>2012</td>\n",
       "      <td>1</td>\n",
       "      <td>12</td>\n",
       "      <td>13990.0</td>\n",
       "      <td>13890.0</td>\n",
       "      <td>14360.0</td>\n",
       "      <td>13850.0</td>\n",
       "      <td>14390.0</td>\n",
       "      <td>14590.0</td>\n",
       "      <td>NaN</td>\n",
       "      <td>NaN</td>\n",
       "      <td>NaN</td>\n",
       "      <td>NaN</td>\n",
       "    </tr>\n",
       "    <tr>\n",
       "      <th>1221</th>\n",
       "      <td>14360</td>\n",
       "      <td>14280</td>\n",
       "      <td>14590</td>\n",
       "      <td>1043400</td>\n",
       "      <td>15191988000</td>\n",
       "      <td>2012</td>\n",
       "      <td>1</td>\n",
       "      <td>11</td>\n",
       "      <td>13720.0</td>\n",
       "      <td>13990.0</td>\n",
       "      <td>13890.0</td>\n",
       "      <td>13800.0</td>\n",
       "      <td>13850.0</td>\n",
       "      <td>14390.0</td>\n",
       "      <td>NaN</td>\n",
       "      <td>NaN</td>\n",
       "      <td>NaN</td>\n",
       "      <td>NaN</td>\n",
       "    </tr>\n",
       "    <tr>\n",
       "      <th>1222</th>\n",
       "      <td>13890</td>\n",
       "      <td>13860</td>\n",
       "      <td>14390</td>\n",
       "      <td>952300</td>\n",
       "      <td>13533413000</td>\n",
       "      <td>2012</td>\n",
       "      <td>1</td>\n",
       "      <td>10</td>\n",
       "      <td>14050.0</td>\n",
       "      <td>13720.0</td>\n",
       "      <td>13990.0</td>\n",
       "      <td>13720.0</td>\n",
       "      <td>13800.0</td>\n",
       "      <td>13850.0</td>\n",
       "      <td>NaN</td>\n",
       "      <td>NaN</td>\n",
       "      <td>NaN</td>\n",
       "      <td>NaN</td>\n",
       "    </tr>\n",
       "  </tbody>\n",
       "</table>\n",
       "</div>"
      ],
      "text/plain": [
       "       Open    Low  Close   Volume  Stock Trading  Year  Month  Day    O_t-3  \\\n",
       "1218  14610  14530  14610   360100     5255652000  2012      1   16  14360.0   \n",
       "1219  14740  14450  14770  1543700    22669096000  2012      1   13  13890.0   \n",
       "1220  14520  14330  14520   540500     7814121000  2012      1   12  13990.0   \n",
       "1221  14360  14280  14590  1043400    15191988000  2012      1   11  13720.0   \n",
       "1222  13890  13860  14390   952300    13533413000  2012      1   10  14050.0   \n",
       "\n",
       "        O_t-2    O_t-1    C_t-3    C_t-2    C_t-1  min  mean  max  high  \n",
       "1218  14520.0  14740.0  14590.0  14520.0  14770.0  NaN   NaN  NaN   NaN  \n",
       "1219  14360.0  14520.0  14390.0  14590.0  14520.0  NaN   NaN  NaN   NaN  \n",
       "1220  13890.0  14360.0  13850.0  14390.0  14590.0  NaN   NaN  NaN   NaN  \n",
       "1221  13990.0  13890.0  13800.0  13850.0  14390.0  NaN   NaN  NaN   NaN  \n",
       "1222  13720.0  13990.0  13720.0  13800.0  13850.0  NaN   NaN  NaN   NaN  "
      ]
     },
     "execution_count": 321,
     "metadata": {},
     "output_type": "execute_result"
    }
   ],
   "source": [
    "train2.tail()"
   ]
  },
  {
   "cell_type": "markdown",
   "metadata": {
    "id": "9ZFRMS0PbcWZ"
   },
   "source": [
    "#### Expanding window Statistics"
   ]
  },
  {
   "cell_type": "code",
   "execution_count": 322,
   "metadata": {
    "id": "QHn0srggbcWZ"
   },
   "outputs": [],
   "source": [
    "train2.dropna(inplace=True)"
   ]
  },
  {
   "cell_type": "code",
   "execution_count": 323,
   "metadata": {
    "id": "mAMNneWubcWZ"
   },
   "outputs": [],
   "source": [
    "#Applying Expanding window for the Lowest Value\n",
    "low= train['Low']\n",
    "window = low.expanding()\n",
    "dfc = concat([window.min(), window.mean(), window.max(), low.shift(-1),low], axis=1)\n",
    "dfc.columns = ['min', 'mean', 'max', 't+1','low']"
   ]
  },
  {
   "cell_type": "code",
   "execution_count": 324,
   "metadata": {
    "colab": {
     "base_uri": "https://localhost:8080/"
    },
    "id": "O3V4wO-0bcWZ",
    "outputId": "37fcdbd0-b597-44a6-8706-5914e8664a22"
   },
   "outputs": [
    {
     "data": {
      "text/plain": [
       "(1226, 5)"
      ]
     },
     "execution_count": 324,
     "metadata": {},
     "output_type": "execute_result"
    }
   ],
   "source": [
    "#no null values\n",
    "dfc.shape"
   ]
  },
  {
   "cell_type": "code",
   "execution_count": 325,
   "metadata": {
    "id": "PFWjKOtFbcWa"
   },
   "outputs": [],
   "source": [
    "#to make it equal to the train2, dropping forst 4 values\n",
    "#dfc.drop(dfc.head(4).index, inplace=True)"
   ]
  },
  {
   "cell_type": "code",
   "execution_count": 326,
   "metadata": {
    "colab": {
     "base_uri": "https://localhost:8080/"
    },
    "id": "NDJO9X82bcWa",
    "outputId": "04f03cb5-108e-4a35-dc69-f447a5badf62"
   },
   "outputs": [
    {
     "data": {
      "text/plain": [
       "(1226, 5)"
      ]
     },
     "execution_count": 326,
     "metadata": {},
     "output_type": "execute_result"
    }
   ],
   "source": [
    "dfc.shape"
   ]
  },
  {
   "cell_type": "code",
   "execution_count": 327,
   "metadata": {
    "id": "fy8XYg1abcWa"
   },
   "outputs": [],
   "source": [
    "#concating the expanding window features to the previous train2.\n",
    "train_final = pd.concat([train2, dfc], axis=1)\n",
    "#Dropping the CO2 feature(redundant)\n",
    "drop_features(['Low'],train_final)"
   ]
  },
  {
   "cell_type": "code",
   "execution_count": 328,
   "metadata": {
    "colab": {
     "base_uri": "https://localhost:8080/",
     "height": 241
    },
    "id": "oNjbjidgbcWa",
    "outputId": "a8078e12-fb92-4f70-8edb-ddffdf4fc630"
   },
   "outputs": [
    {
     "data": {
      "text/html": [
       "<div>\n",
       "<style scoped>\n",
       "    .dataframe tbody tr th:only-of-type {\n",
       "        vertical-align: middle;\n",
       "    }\n",
       "\n",
       "    .dataframe tbody tr th {\n",
       "        vertical-align: top;\n",
       "    }\n",
       "\n",
       "    .dataframe thead th {\n",
       "        text-align: right;\n",
       "    }\n",
       "</style>\n",
       "<table border=\"1\" class=\"dataframe\">\n",
       "  <thead>\n",
       "    <tr style=\"text-align: right;\">\n",
       "      <th></th>\n",
       "      <th>Open</th>\n",
       "      <th>Close</th>\n",
       "      <th>Volume</th>\n",
       "      <th>Stock Trading</th>\n",
       "      <th>Year</th>\n",
       "      <th>Month</th>\n",
       "      <th>Day</th>\n",
       "      <th>O_t-3</th>\n",
       "      <th>O_t-2</th>\n",
       "      <th>O_t-1</th>\n",
       "      <th>...</th>\n",
       "      <th>C_t-1</th>\n",
       "      <th>min</th>\n",
       "      <th>mean</th>\n",
       "      <th>max</th>\n",
       "      <th>high</th>\n",
       "      <th>min</th>\n",
       "      <th>mean</th>\n",
       "      <th>max</th>\n",
       "      <th>t+1</th>\n",
       "      <th>low</th>\n",
       "    </tr>\n",
       "  </thead>\n",
       "  <tbody>\n",
       "    <tr>\n",
       "      <th>1221</th>\n",
       "      <td>NaN</td>\n",
       "      <td>NaN</td>\n",
       "      <td>NaN</td>\n",
       "      <td>NaN</td>\n",
       "      <td>NaN</td>\n",
       "      <td>NaN</td>\n",
       "      <td>NaN</td>\n",
       "      <td>NaN</td>\n",
       "      <td>NaN</td>\n",
       "      <td>NaN</td>\n",
       "      <td>...</td>\n",
       "      <td>NaN</td>\n",
       "      <td>NaN</td>\n",
       "      <td>NaN</td>\n",
       "      <td>NaN</td>\n",
       "      <td>NaN</td>\n",
       "      <td>14280.0</td>\n",
       "      <td>33412.094926</td>\n",
       "      <td>60740.0</td>\n",
       "      <td>13860.0</td>\n",
       "      <td>14280</td>\n",
       "    </tr>\n",
       "    <tr>\n",
       "      <th>1222</th>\n",
       "      <td>NaN</td>\n",
       "      <td>NaN</td>\n",
       "      <td>NaN</td>\n",
       "      <td>NaN</td>\n",
       "      <td>NaN</td>\n",
       "      <td>NaN</td>\n",
       "      <td>NaN</td>\n",
       "      <td>NaN</td>\n",
       "      <td>NaN</td>\n",
       "      <td>NaN</td>\n",
       "      <td>...</td>\n",
       "      <td>NaN</td>\n",
       "      <td>NaN</td>\n",
       "      <td>NaN</td>\n",
       "      <td>NaN</td>\n",
       "      <td>NaN</td>\n",
       "      <td>13860.0</td>\n",
       "      <td>33396.107931</td>\n",
       "      <td>60740.0</td>\n",
       "      <td>13790.0</td>\n",
       "      <td>13860</td>\n",
       "    </tr>\n",
       "    <tr>\n",
       "      <th>1223</th>\n",
       "      <td>NaN</td>\n",
       "      <td>NaN</td>\n",
       "      <td>NaN</td>\n",
       "      <td>NaN</td>\n",
       "      <td>NaN</td>\n",
       "      <td>NaN</td>\n",
       "      <td>NaN</td>\n",
       "      <td>NaN</td>\n",
       "      <td>NaN</td>\n",
       "      <td>NaN</td>\n",
       "      <td>...</td>\n",
       "      <td>NaN</td>\n",
       "      <td>NaN</td>\n",
       "      <td>NaN</td>\n",
       "      <td>NaN</td>\n",
       "      <td>NaN</td>\n",
       "      <td>13790.0</td>\n",
       "      <td>33380.089869</td>\n",
       "      <td>60740.0</td>\n",
       "      <td>13600.0</td>\n",
       "      <td>13790</td>\n",
       "    </tr>\n",
       "    <tr>\n",
       "      <th>1224</th>\n",
       "      <td>NaN</td>\n",
       "      <td>NaN</td>\n",
       "      <td>NaN</td>\n",
       "      <td>NaN</td>\n",
       "      <td>NaN</td>\n",
       "      <td>NaN</td>\n",
       "      <td>NaN</td>\n",
       "      <td>NaN</td>\n",
       "      <td>NaN</td>\n",
       "      <td>NaN</td>\n",
       "      <td>...</td>\n",
       "      <td>NaN</td>\n",
       "      <td>NaN</td>\n",
       "      <td>NaN</td>\n",
       "      <td>NaN</td>\n",
       "      <td>NaN</td>\n",
       "      <td>13600.0</td>\n",
       "      <td>33363.942857</td>\n",
       "      <td>60740.0</td>\n",
       "      <td>13700.0</td>\n",
       "      <td>13600</td>\n",
       "    </tr>\n",
       "    <tr>\n",
       "      <th>1225</th>\n",
       "      <td>NaN</td>\n",
       "      <td>NaN</td>\n",
       "      <td>NaN</td>\n",
       "      <td>NaN</td>\n",
       "      <td>NaN</td>\n",
       "      <td>NaN</td>\n",
       "      <td>NaN</td>\n",
       "      <td>NaN</td>\n",
       "      <td>NaN</td>\n",
       "      <td>NaN</td>\n",
       "      <td>...</td>\n",
       "      <td>NaN</td>\n",
       "      <td>NaN</td>\n",
       "      <td>NaN</td>\n",
       "      <td>NaN</td>\n",
       "      <td>NaN</td>\n",
       "      <td>13600.0</td>\n",
       "      <td>33347.903752</td>\n",
       "      <td>60740.0</td>\n",
       "      <td>NaN</td>\n",
       "      <td>13700</td>\n",
       "    </tr>\n",
       "  </tbody>\n",
       "</table>\n",
       "<p>5 rows × 22 columns</p>\n",
       "</div>"
      ],
      "text/plain": [
       "      Open  Close  Volume  Stock Trading  Year  Month  Day  O_t-3  O_t-2  \\\n",
       "1221   NaN    NaN     NaN            NaN   NaN    NaN  NaN    NaN    NaN   \n",
       "1222   NaN    NaN     NaN            NaN   NaN    NaN  NaN    NaN    NaN   \n",
       "1223   NaN    NaN     NaN            NaN   NaN    NaN  NaN    NaN    NaN   \n",
       "1224   NaN    NaN     NaN            NaN   NaN    NaN  NaN    NaN    NaN   \n",
       "1225   NaN    NaN     NaN            NaN   NaN    NaN  NaN    NaN    NaN   \n",
       "\n",
       "      O_t-1  ...  C_t-1  min  mean  max  high      min          mean      max  \\\n",
       "1221    NaN  ...    NaN  NaN   NaN  NaN   NaN  14280.0  33412.094926  60740.0   \n",
       "1222    NaN  ...    NaN  NaN   NaN  NaN   NaN  13860.0  33396.107931  60740.0   \n",
       "1223    NaN  ...    NaN  NaN   NaN  NaN   NaN  13790.0  33380.089869  60740.0   \n",
       "1224    NaN  ...    NaN  NaN   NaN  NaN   NaN  13600.0  33363.942857  60740.0   \n",
       "1225    NaN  ...    NaN  NaN   NaN  NaN   NaN  13600.0  33347.903752  60740.0   \n",
       "\n",
       "          t+1    low  \n",
       "1221  13860.0  14280  \n",
       "1222  13790.0  13860  \n",
       "1223  13600.0  13790  \n",
       "1224  13700.0  13600  \n",
       "1225      NaN  13700  \n",
       "\n",
       "[5 rows x 22 columns]"
      ]
     },
     "execution_count": 328,
     "metadata": {},
     "output_type": "execute_result"
    }
   ],
   "source": [
    "train_final.tail()"
   ]
  },
  {
   "cell_type": "code",
   "execution_count": 329,
   "metadata": {
    "id": "EXUC7NtDbcWb"
   },
   "outputs": [],
   "source": [
    "#Replacing the null values with -1 if any.\n",
    "train_final.dropna(inplace = True)"
   ]
  },
  {
   "cell_type": "code",
   "execution_count": 330,
   "metadata": {
    "colab": {
     "base_uri": "https://localhost:8080/"
    },
    "id": "g5dsL1m3bcWb",
    "outputId": "2ba55231-3a5f-44c6-fdbc-eef24973e7a8"
   },
   "outputs": [
    {
     "data": {
      "text/plain": [
       "(1168, 22)"
      ]
     },
     "execution_count": 330,
     "metadata": {},
     "output_type": "execute_result"
    }
   ],
   "source": [
    "#Complete final Train Data\n",
    "train_final.shape"
   ]
  },
  {
   "cell_type": "markdown",
   "metadata": {
    "id": "kCZoTe1zbcWb"
   },
   "source": [
    "### Splitting of Data"
   ]
  },
  {
   "cell_type": "code",
   "execution_count": 331,
   "metadata": {
    "id": "0BC3PFd3bcWb"
   },
   "outputs": [],
   "source": [
    "from sklearn.model_selection import train_test_split"
   ]
  },
  {
   "cell_type": "code",
   "execution_count": 332,
   "metadata": {
    "id": "a2MqWJBobcWb"
   },
   "outputs": [],
   "source": [
    "X_train,X_test,y_train,y_test = train_test_split(train_final.drop('Close',axis=1)\n",
    "                                                 ,train_final['Close'],random_state=42)\n",
    "\n",
    "\n",
    "\n",
    "actual=(y_test.to_numpy(dtype ='float32'))\n",
    "actual=np.sort(actual)\n"
   ]
  },
  {
   "cell_type": "code",
   "execution_count": 333,
   "metadata": {
    "colab": {
     "base_uri": "https://localhost:8080/"
    },
    "id": "FJAR7UP6xaUB",
    "outputId": "2029a90c-a351-4493-d036-92cdd6ba5814"
   },
   "outputs": [
    {
     "data": {
      "text/plain": [
       "1074    17220.0\n",
       "841     36300.0\n",
       "985     20830.0\n",
       "657     32875.0\n",
       "1002    17860.0\n",
       "Name: Close, dtype: float64"
      ]
     },
     "execution_count": 333,
     "metadata": {},
     "output_type": "execute_result"
    }
   ],
   "source": [
    "y_train.head()"
   ]
  },
  {
   "cell_type": "code",
   "execution_count": 334,
   "metadata": {
    "colab": {
     "base_uri": "https://localhost:8080/",
     "height": 241
    },
    "id": "BA1xm5FrbcWc",
    "outputId": "81bde83f-f7ae-4806-ab10-f7aa9e19ca20"
   },
   "outputs": [
    {
     "data": {
      "text/html": [
       "<div>\n",
       "<style scoped>\n",
       "    .dataframe tbody tr th:only-of-type {\n",
       "        vertical-align: middle;\n",
       "    }\n",
       "\n",
       "    .dataframe tbody tr th {\n",
       "        vertical-align: top;\n",
       "    }\n",
       "\n",
       "    .dataframe thead th {\n",
       "        text-align: right;\n",
       "    }\n",
       "</style>\n",
       "<table border=\"1\" class=\"dataframe\">\n",
       "  <thead>\n",
       "    <tr style=\"text-align: right;\">\n",
       "      <th></th>\n",
       "      <th>Open</th>\n",
       "      <th>Volume</th>\n",
       "      <th>Stock Trading</th>\n",
       "      <th>Year</th>\n",
       "      <th>Month</th>\n",
       "      <th>Day</th>\n",
       "      <th>O_t-3</th>\n",
       "      <th>O_t-2</th>\n",
       "      <th>O_t-1</th>\n",
       "      <th>C_t-3</th>\n",
       "      <th>...</th>\n",
       "      <th>C_t-1</th>\n",
       "      <th>min</th>\n",
       "      <th>mean</th>\n",
       "      <th>max</th>\n",
       "      <th>high</th>\n",
       "      <th>min</th>\n",
       "      <th>mean</th>\n",
       "      <th>max</th>\n",
       "      <th>t+1</th>\n",
       "      <th>low</th>\n",
       "    </tr>\n",
       "  </thead>\n",
       "  <tbody>\n",
       "    <tr>\n",
       "      <th>1074</th>\n",
       "      <td>17460.0</td>\n",
       "      <td>856100.0</td>\n",
       "      <td>1.486360e+10</td>\n",
       "      <td>2012.0</td>\n",
       "      <td>8.0</td>\n",
       "      <td>10.0</td>\n",
       "      <td>16630.0</td>\n",
       "      <td>16950.0</td>\n",
       "      <td>17220.0</td>\n",
       "      <td>16840.0</td>\n",
       "      <td>...</td>\n",
       "      <td>17610.0</td>\n",
       "      <td>15460.0</td>\n",
       "      <td>16189.333333</td>\n",
       "      <td>17680.0</td>\n",
       "      <td>17590.0</td>\n",
       "      <td>15810.0</td>\n",
       "      <td>35741.627907</td>\n",
       "      <td>60740.0</td>\n",
       "      <td>17210.0</td>\n",
       "      <td>17210</td>\n",
       "    </tr>\n",
       "    <tr>\n",
       "      <th>841</th>\n",
       "      <td>36450.0</td>\n",
       "      <td>554700.0</td>\n",
       "      <td>2.014420e+10</td>\n",
       "      <td>2013.0</td>\n",
       "      <td>7.0</td>\n",
       "      <td>24.0</td>\n",
       "      <td>37300.0</td>\n",
       "      <td>36800.0</td>\n",
       "      <td>36000.0</td>\n",
       "      <td>36150.0</td>\n",
       "      <td>...</td>\n",
       "      <td>36650.0</td>\n",
       "      <td>29650.0</td>\n",
       "      <td>34396.666667</td>\n",
       "      <td>38750.0</td>\n",
       "      <td>36600.0</td>\n",
       "      <td>25305.0</td>\n",
       "      <td>38667.197150</td>\n",
       "      <td>60740.0</td>\n",
       "      <td>35950.0</td>\n",
       "      <td>36100</td>\n",
       "    </tr>\n",
       "    <tr>\n",
       "      <th>985</th>\n",
       "      <td>20610.0</td>\n",
       "      <td>562500.0</td>\n",
       "      <td>1.166280e+10</td>\n",
       "      <td>2012.0</td>\n",
       "      <td>12.0</td>\n",
       "      <td>18.0</td>\n",
       "      <td>19980.0</td>\n",
       "      <td>20060.0</td>\n",
       "      <td>20320.0</td>\n",
       "      <td>20200.0</td>\n",
       "      <td>...</td>\n",
       "      <td>20500.0</td>\n",
       "      <td>16920.0</td>\n",
       "      <td>18510.000000</td>\n",
       "      <td>20910.0</td>\n",
       "      <td>20840.0</td>\n",
       "      <td>20050.0</td>\n",
       "      <td>37362.494929</td>\n",
       "      <td>60740.0</td>\n",
       "      <td>20220.0</td>\n",
       "      <td>20540</td>\n",
       "    </tr>\n",
       "    <tr>\n",
       "      <th>657</th>\n",
       "      <td>33295.0</td>\n",
       "      <td>475900.0</td>\n",
       "      <td>1.573133e+10</td>\n",
       "      <td>2014.0</td>\n",
       "      <td>4.0</td>\n",
       "      <td>24.0</td>\n",
       "      <td>33825.0</td>\n",
       "      <td>33805.0</td>\n",
       "      <td>33120.0</td>\n",
       "      <td>33700.0</td>\n",
       "      <td>...</td>\n",
       "      <td>33275.0</td>\n",
       "      <td>33140.0</td>\n",
       "      <td>36203.666667</td>\n",
       "      <td>38770.0</td>\n",
       "      <td>33465.0</td>\n",
       "      <td>25305.0</td>\n",
       "      <td>39582.416413</td>\n",
       "      <td>60740.0</td>\n",
       "      <td>32815.0</td>\n",
       "      <td>32830</td>\n",
       "    </tr>\n",
       "    <tr>\n",
       "      <th>1002</th>\n",
       "      <td>17790.0</td>\n",
       "      <td>397800.0</td>\n",
       "      <td>7.062976e+09</td>\n",
       "      <td>2012.0</td>\n",
       "      <td>11.0</td>\n",
       "      <td>22.0</td>\n",
       "      <td>17400.0</td>\n",
       "      <td>17400.0</td>\n",
       "      <td>17600.0</td>\n",
       "      <td>17420.0</td>\n",
       "      <td>...</td>\n",
       "      <td>17620.0</td>\n",
       "      <td>16250.0</td>\n",
       "      <td>17337.333333</td>\n",
       "      <td>18080.0</td>\n",
       "      <td>17860.0</td>\n",
       "      <td>17640.0</td>\n",
       "      <td>37049.312064</td>\n",
       "      <td>60740.0</td>\n",
       "      <td>17470.0</td>\n",
       "      <td>17640</td>\n",
       "    </tr>\n",
       "  </tbody>\n",
       "</table>\n",
       "<p>5 rows × 21 columns</p>\n",
       "</div>"
      ],
      "text/plain": [
       "         Open    Volume  Stock Trading    Year  Month   Day    O_t-3    O_t-2  \\\n",
       "1074  17460.0  856100.0   1.486360e+10  2012.0    8.0  10.0  16630.0  16950.0   \n",
       "841   36450.0  554700.0   2.014420e+10  2013.0    7.0  24.0  37300.0  36800.0   \n",
       "985   20610.0  562500.0   1.166280e+10  2012.0   12.0  18.0  19980.0  20060.0   \n",
       "657   33295.0  475900.0   1.573133e+10  2014.0    4.0  24.0  33825.0  33805.0   \n",
       "1002  17790.0  397800.0   7.062976e+09  2012.0   11.0  22.0  17400.0  17400.0   \n",
       "\n",
       "        O_t-1    C_t-3  ...    C_t-1      min          mean      max     high  \\\n",
       "1074  17220.0  16840.0  ...  17610.0  15460.0  16189.333333  17680.0  17590.0   \n",
       "841   36000.0  36150.0  ...  36650.0  29650.0  34396.666667  38750.0  36600.0   \n",
       "985   20320.0  20200.0  ...  20500.0  16920.0  18510.000000  20910.0  20840.0   \n",
       "657   33120.0  33700.0  ...  33275.0  33140.0  36203.666667  38770.0  33465.0   \n",
       "1002  17600.0  17420.0  ...  17620.0  16250.0  17337.333333  18080.0  17860.0   \n",
       "\n",
       "          min          mean      max      t+1    low  \n",
       "1074  15810.0  35741.627907  60740.0  17210.0  17210  \n",
       "841   25305.0  38667.197150  60740.0  35950.0  36100  \n",
       "985   20050.0  37362.494929  60740.0  20220.0  20540  \n",
       "657   25305.0  39582.416413  60740.0  32815.0  32830  \n",
       "1002  17640.0  37049.312064  60740.0  17470.0  17640  \n",
       "\n",
       "[5 rows x 21 columns]"
      ]
     },
     "execution_count": 334,
     "metadata": {},
     "output_type": "execute_result"
    }
   ],
   "source": [
    "X_train.head()"
   ]
  },
  {
   "cell_type": "markdown",
   "metadata": {
    "id": "bU1A18ZrbcWc"
   },
   "source": [
    "### Applying Regressor Model"
   ]
  },
  {
   "cell_type": "markdown",
   "metadata": {
    "id": "i4uvx7skkBKW"
   },
   "source": [
    "### Linear Regression"
   ]
  },
  {
   "cell_type": "code",
   "execution_count": 335,
   "metadata": {
    "id": "-Z_JLhlokWji"
   },
   "outputs": [],
   "source": [
    "from sklearn.linear_model import LinearRegression\n",
    "model1= LinearRegression()\n",
    "model1.fit(X_train,y_train)\n",
    "predict_L=model1.predict(X_test)\n",
    "predict_L=np.sort(predict_L)\n",
    "absolute_error1=abs(actual-predict_L)\n",
    "#absolute_error1=np.transpose(absolute_error1)\n",
    "\n"
   ]
  },
  {
   "cell_type": "code",
   "execution_count": 336,
   "metadata": {
    "colab": {
     "base_uri": "https://localhost:8080/",
     "height": 621
    },
    "id": "r9fmNVO0DYE3",
    "outputId": "dac86e04-f60d-44c4-cac8-c8257170b308"
   },
   "outputs": [
    {
     "data": {
      "image/png": "[encoded data removed]",
      "text/plain": [
       "<Figure size 1080x720 with 1 Axes>"
      ]
     },
     "metadata": {
      "needs_background": "light"
     },
     "output_type": "display_data"
    }
   ],
   "source": [
    "from matplotlib import pyplot as plt\n",
    "fig, ax = plt.subplots(figsize=(15,10))\n",
    "ax.plot(actual, color='r', label='actual')\n",
    "ax.plot(predict_L, color='g', label='predicted')\n",
    "leg = ax.legend();\n",
    "ax.set_xlabel(\"days\")\n",
    "ax.set_ylabel(\"stock value\")\n",
    "ax.set_title(\"Days vs Stock values\")\n",
    "fig.savefig('D:/PhD/PAPERS/PAPER 2/final paper/venky_modified/venky_modified/MYOUTPUTRESULTS/Linear_regresson.png')\n",
    "#d = {'actual': [actual], predicted : [predict_L]}\n",
    "DF = pd.DataFrame(data=[actual, predict_L, absolute_error1]).T\n",
    "DF.columns=['actual', 'L_predicted', 'absolute_error']\n",
    "# save the dataframe as a csv file\n",
    "DF.to_csv(\"D:/PhD/PAPERS/PAPER 2/final paper/venky_modified/venky_modified/MYOUTPUTdata/data_L_regression.csv\")"
   ]
  },
  {
   "cell_type": "markdown",
   "metadata": {
    "id": "j1TtpGEu66Gq"
   },
   "source": [
    "### Dession Tree Regression"
   ]
  },
  {
   "cell_type": "code",
   "execution_count": 337,
   "metadata": {
    "id": "cPXJqKQm69ey"
   },
   "outputs": [],
   "source": [
    "from sklearn.tree import DecisionTreeRegressor\n",
    "model2=DecisionTreeRegressor()\n",
    "model2.fit(X_train,y_train)\n",
    "predict_Decision=model2.predict(X_test)\n",
    "predict_Decision=np.sort(predict_Decision)\n",
    "\n",
    "absolute_error2=abs(actual-predict_Decision)\n"
   ]
  },
  {
   "cell_type": "code",
   "execution_count": 338,
   "metadata": {
    "colab": {
     "base_uri": "https://localhost:8080/",
     "height": 621
    },
    "id": "p8V19A-5GoCE",
    "outputId": "8ce1e706-ffa2-448e-c2bf-e38259828331"
   },
   "outputs": [
    {
     "data": {
      "image/png": "[encoded data removed]",
      "text/plain": [
       "<Figure size 1080x720 with 1 Axes>"
      ]
     },
     "metadata": {
      "needs_background": "light"
     },
     "output_type": "display_data"
    }
   ],
   "source": [
    "fig, ax = plt.subplots(figsize=(15,10))\n",
    "ax.plot(actual, color='r', label='actual')\n",
    "ax.plot(predict_Decision, color='g', label='predicted')\n",
    "leg = ax.legend();\n",
    "ax.set_xlabel(\"days\")\n",
    "ax.set_ylabel(\"stock value\")\n",
    "ax.set_title(\"Days vs Stock values\")\n",
    "fig.savefig('D:/PhD/PAPERS/PAPER 2/final paper/venky_modified/venky_modified/MYOUTPUTRESULTS/Decision_tree_regresson.png')\n",
    "\n",
    "DF = pd.DataFrame(data=[actual, predict_Decision, absolute_error2]).T\n",
    "DF.columns=['actual', 'predict_Decision', 'absolute_error']\n",
    "# save the dataframe as a csv file\n",
    "DF.to_csv(\"D:/PhD/PAPERS/PAPER 2/final paper/venky_modified/venky_modified/MYOUTPUTdata/data_Decision_regression.csv\")"
   ]
  },
  {
   "cell_type": "markdown",
   "metadata": {
    "id": "wvcac_jej15f"
   },
   "source": [
    "### Random Forest Regression"
   ]
  },
  {
   "cell_type": "code",
   "execution_count": 339,
   "metadata": {
    "id": "qIVtmRZVbcWc"
   },
   "outputs": [],
   "source": [
    "model3=RandomForestRegressor()"
   ]
  },
  {
   "cell_type": "code",
   "execution_count": 340,
   "metadata": {
    "colab": {
     "base_uri": "https://localhost:8080/"
    },
    "id": "fc9xc4BdbcWc",
    "outputId": "00c79665-cca3-4eae-a005-2078383e129f"
   },
   "outputs": [
    {
     "data": {
      "text/plain": [
       "RandomForestRegressor()"
      ]
     },
     "execution_count": 340,
     "metadata": {},
     "output_type": "execute_result"
    }
   ],
   "source": [
    "model3.fit(X_train,y_train)"
   ]
  },
  {
   "cell_type": "code",
   "execution_count": 341,
   "metadata": {
    "id": "ILU492kkbcWc"
   },
   "outputs": [],
   "source": [
    "predict_randomForest=model3.predict(X_test)\n",
    "\n",
    "predict_randomForest=np.sort(predict_randomForest)\n",
    "absolute_error3=abs(actual-predict_randomForest)\n"
   ]
  },
  {
   "cell_type": "code",
   "execution_count": 342,
   "metadata": {
    "colab": {
     "base_uri": "https://localhost:8080/",
     "height": 621
    },
    "id": "XVQpTFL0Gv8e",
    "outputId": "874b4e3a-de0d-4307-ca36-e12f8778f987"
   },
   "outputs": [
    {
     "data": {
      "image/png": "[encoded data removed]",
      "text/plain": [
       "<Figure size 1080x720 with 1 Axes>"
      ]
     },
     "metadata": {
      "needs_background": "light"
     },
     "output_type": "display_data"
    }
   ],
   "source": [
    "fig, ax = plt.subplots(figsize=(15,10))\n",
    "ax.plot(actual, color='r', label='actual')\n",
    "ax.plot(predict_randomForest, color='g', label='predicted')\n",
    "leg = ax.legend();\n",
    "ax.set_xlabel(\"days\")\n",
    "ax.set_ylabel(\"stock value\")\n",
    "ax.set_title(\"Days vs Stock values\")\n",
    "fig.savefig(\"D:/PhD/PAPERS/PAPER 2/final paper/venky_modified/venky_modified/MYOUTPUTRESULTS/RandomForest_regresson.png\")\n",
    "DF = pd.DataFrame(data=[actual, predict_randomForest, absolute_error3]).T\n",
    "DF.columns=['actual', 'predict_randomForest', 'absolute_error']\n",
    "# save the dataframe as a csv file\n",
    "DF.to_csv(\"D:/PhD/PAPERS/PAPER 2/final paper/venky_modified/venky_modified/MYOUTPUTdata/data_randomForest_regression.csv\")"
   ]
  },
  {
   "cell_type": "code",
   "execution_count": 343,
   "metadata": {
    "id": "aLVHOra2bcWd"
   },
   "outputs": [],
   "source": [
    "#imp_list = list(model.feature_importances_)"
   ]
  },
  {
   "cell_type": "code",
   "execution_count": 344,
   "metadata": {
    "id": "fHH-pn9BbcWd"
   },
   "outputs": [],
   "source": [
    "# model3.estimators_\n"
   ]
  },
  {
   "cell_type": "code",
   "execution_count": 345,
   "metadata": {
    "colab": {
     "base_uri": "https://localhost:8080/"
    },
    "id": "L3bnCTeWbcWd",
    "outputId": "644b4f93-4e34-49f9-ab4e-32e00bec37f8"
   },
   "outputs": [
    {
     "data": {
      "text/plain": [
       "100"
      ]
     },
     "execution_count": 345,
     "metadata": {},
     "output_type": "execute_result"
    }
   ],
   "source": [
    "len(model3.estimators_)"
   ]
  },
  {
   "cell_type": "code",
   "execution_count": 346,
   "metadata": {
    "id": "1JgLdVKWbcWd"
   },
   "outputs": [],
   "source": [
    "from sklearn import tree"
   ]
  },
  {
   "cell_type": "code",
   "execution_count": 347,
   "metadata": {
    "id": "teXunAlwbcWe",
    "scrolled": true
   },
   "outputs": [],
   "source": [
    "#fig, axes = plt.subplots(nrows = 1,ncols = 5,figsize = (10,2), dpi=3000)\n",
    "\n",
    "# printing first 5 decision trees and saving them into a file\n",
    "# u can modify it to whatever tree u wnat or all\n",
    "\n",
    "#for index in range(0, 5):\n",
    "   # tree.plot_tree(model.estimators_[index], ax = axes[index]);    \n",
    "   # axes[index].set_title('Estimator: ' + str(index), fontsize = 11)\n",
    "    #fig.savefig('all_trees.png')\n"
   ]
  },
  {
   "cell_type": "code",
   "execution_count": 348,
   "metadata": {
    "id": "jbNa6MeObcWe"
   },
   "outputs": [],
   "source": [
    "#col_lis = list(X_test.columns)"
   ]
  },
  {
   "cell_type": "code",
   "execution_count": 349,
   "metadata": {
    "id": "AgBji-dvbcWe"
   },
   "outputs": [],
   "source": [
    "#feature_importances = {i[0]:\"{0:.4f}\".format(i[1]) for i in list(zip(col_lis,imp_list))}"
   ]
  },
  {
   "cell_type": "code",
   "execution_count": 350,
   "metadata": {
    "colab": {
     "base_uri": "https://localhost:8080/"
    },
    "id": "IiUat82sbcWe",
    "outputId": "a5018307-d73f-4508-c04f-f552445f41ba"
   },
   "outputs": [
    {
     "name": "stdout",
     "output_type": "stream",
     "text": [
      "0.24.2\n"
     ]
    }
   ],
   "source": [
    "import sklearn\n",
    "print(sklearn.__version__)"
   ]
  },
  {
   "cell_type": "markdown",
   "metadata": {
    "id": "zaONAnMmbcWe"
   },
   "source": [
    "# applying extratree regressor"
   ]
  },
  {
   "cell_type": "code",
   "execution_count": 351,
   "metadata": {
    "id": "zmS4nkwcbcWf"
   },
   "outputs": [],
   "source": [
    "from sklearn.ensemble import ExtraTreesRegressor"
   ]
  },
  {
   "cell_type": "code",
   "execution_count": 352,
   "metadata": {
    "colab": {
     "base_uri": "https://localhost:8080/",
     "height": 621
    },
    "id": "fiECIMoGbcWf",
    "outputId": "8696f66b-ad75-45c5-f0ed-70923d906cb3"
   },
   "outputs": [
    {
     "data": {
      "image/png": "[encoded data removed]",
      "text/plain": [
       "<Figure size 1080x720 with 1 Axes>"
      ]
     },
     "metadata": {
      "needs_background": "light"
     },
     "output_type": "display_data"
    }
   ],
   "source": [
    "model4=ExtraTreesRegressor()\n",
    "model4.fit(X_train,y_train)\n",
    "predict_xtraa_regresson=model3.predict(X_test)\n",
    "\n",
    "predict_xtraa_regresson=np.sort(predict_xtraa_regresson)\n",
    "absolute_error4=abs(actual-predict_xtraa_regresson)\n",
    "\n",
    "fig, ax = plt.subplots(figsize=(15,10))\n",
    "ax.plot(actual, color='r', label='actual')\n",
    "ax.plot(predict_xtraa_regresson, color='g', label='predicted')\n",
    "leg = ax.legend();\n",
    "ax.set_xlabel(\"days\")\n",
    "ax.set_ylabel(\"stock value\")\n",
    "ax.set_title(\"Days vs Stock values\")\n",
    "fig.savefig(\"D:/PhD/PAPERS/PAPER 2/final paper/venky_modified/venky_modified/MYOUTPUTRESULTS/Extra_tree_regresson.png\")\n",
    "\n",
    "DF = pd.DataFrame(data=[actual, predict_xtraa_regresson, absolute_error4]).T\n",
    "DF.columns=['actual', 'predict_xtraa_regresson', 'absolute_error']\n",
    "# save the dataframe as a csv file\n",
    "DF.to_csv(\"D:/PhD/PAPERS/PAPER 2/final paper/venky_modified/venky_modified/MYOUTPUTdata/data_xtraa_regresson.csv\")"
   ]
  },
  {
   "cell_type": "markdown",
   "metadata": {
    "id": "FZcbTZdW_IRG"
   },
   "source": [
    "### absolute errors\n"
   ]
  },
  {
   "cell_type": "code",
   "execution_count": 353,
   "metadata": {
    "colab": {
     "base_uri": "https://localhost:8080/",
     "height": 621
    },
    "id": "btxPdVhX_NP5",
    "outputId": "76d93eff-df22-4f20-c130-db625ff162ab"
   },
   "outputs": [
    {
     "data": {
      "image/png": "[encoded data removed]",
      "text/plain": [
       "<Figure size 1080x720 with 1 Axes>"
      ]
     },
     "metadata": {
      "needs_background": "light"
     },
     "output_type": "display_data"
    }
   ],
   "source": [
    "absolute_error1=abs(actual-predict_L)\n",
    "absolute_error2=abs(actual-predict_Decision)\n",
    "absolute_error3=abs(actual-predict_randomForest)\n",
    "absolute_error4=abs(actual-predict_xtraa_regresson)\n",
    "\n",
    "fig, ax = plt.subplots(figsize=(15,10))\n",
    "ax.plot(absolute_error1, color='r', label='Linear Regression')\n",
    "ax.plot(absolute_error2, color='g', label='Decesion tree')\n",
    "ax.plot(absolute_error3, color='b', label='Random Forest')\n",
    "ax.plot(absolute_error4, color='k', label='Extra tree')\n",
    "leg = ax.legend();\n",
    "ax.set_xlabel(\"days\")\n",
    "ax.set_ylabel(\"absolute error\")\n",
    "ax.set_title(\"Days vs absolute error\")\n",
    "fig.savefig(\"D:/PhD/PAPERS/PAPER 2/final paper/venky_modified/venky_modified/MYOUTPUTRESULTS/absolute_errors.png\")\n"
   ]
  },
  {
   "cell_type": "code",
   "execution_count": 354,
   "metadata": {
    "colab": {
     "base_uri": "https://localhost:8080/"
    },
    "id": "4b7fdwWabcWf",
    "outputId": "13740ffc-f2cb-4b3a-822c-f7a1fae6128f"
   },
   "outputs": [
    {
     "name": "stdout",
     "output_type": "stream",
     "text": [
      "Mean absolute errors\n",
      "\n",
      "MAE_L_regression: 117.09855432942108\n",
      "MAE_Decesion_regression: 195.70205479452054\n",
      "MAE_RandomForest_regression: 164.2015410958904\n",
      "MAE_Extra_regression: 164.2015410958904\n",
      "\n",
      "\n",
      " Mean Squared errors\n",
      "\n",
      "MSE_L_regression: 27288.080353208417\n",
      "MSE_Decesion_regression: 77025.25684931508\n",
      "MSE_RandomForest_regression: 54688.48771404107\n",
      "MSE_Extra_regression: 54688.48771404107\n",
      "\n",
      "\n",
      " Root Mean Squared errors\n",
      "\n",
      "RMSE_L_regression: 165.19104198838514\n",
      "RMSE_Decesion_regression: 277.5342444623998\n",
      "RMSE_RandomForest_regression: 233.85569848528615\n",
      "RMSE_Extra_regression: 233.85569848528615\n"
     ]
    }
   ],
   "source": [
    "from sklearn import metrics\n",
    "print('Mean absolute errors\\n')\n",
    "print('MAE_L_regression:', metrics.mean_absolute_error(actual,predict_L))\n",
    "print('MAE_Decesion_regression:', metrics.mean_absolute_error(actual,predict_Decision))\n",
    "print('MAE_RandomForest_regression:', metrics.mean_absolute_error(actual,predict_randomForest))\n",
    "print('MAE_Extra_regression:', metrics.mean_absolute_error(actual,predict_xtraa_regresson))\n",
    "print('\\n')\n",
    "print(' Mean Squared errors\\n')\n",
    "print('MSE_L_regression:', metrics.mean_squared_error(actual,predict_L))\n",
    "print('MSE_Decesion_regression:', metrics.mean_squared_error(actual,predict_Decision))\n",
    "print('MSE_RandomForest_regression:', metrics.mean_squared_error(actual,predict_randomForest))\n",
    "print('MSE_Extra_regression:', metrics.mean_squared_error(actual,predict_xtraa_regresson))\n",
    "print('\\n')\n",
    "print(' Root Mean Squared errors\\n')\n",
    "print('RMSE_L_regression:', np.sqrt(metrics.mean_squared_error(actual,predict_L)))\n",
    "print('RMSE_Decesion_regression:', np.sqrt(metrics.mean_squared_error(actual,predict_Decision)))\n",
    "print('RMSE_RandomForest_regression:', np.sqrt(metrics.mean_squared_error(actual,predict_randomForest)))\n",
    "print('RMSE_Extra_regression:', np.sqrt(metrics.mean_squared_error(actual,predict_xtraa_regresson)))\n"
   ]
  },
  {
   "cell_type": "code",
   "execution_count": 355,
   "metadata": {
    "id": "nQBosgj_bcWf"
   },
   "outputs": [],
   "source": [
    "from sklearn import tree"
   ]
  },
  {
   "cell_type": "code",
   "execution_count": 356,
   "metadata": {
    "colab": {
     "base_uri": "https://localhost:8080/"
    },
    "id": "bE4N_WUlbcWg",
    "outputId": "cf8bddb4-b97b-4619-9100-ce6ba7c2f106"
   },
   "outputs": [
    {
     "name": "stdout",
     "output_type": "stream",
     "text": [
      "100\n"
     ]
    }
   ],
   "source": [
    "print(len(model3.estimators_))"
   ]
  },
  {
   "cell_type": "code",
   "execution_count": 357,
   "metadata": {
    "id": "i-K9j3GRbcWg"
   },
   "outputs": [],
   "source": [
    "#fig, axes = plt.subplots(nrows = 1,ncols = 1,figsize = (10,2), dpi=1000)\n",
    "#tree.plot_tree(model3.estimators_[0])\n",
    "#fig.savefig('all_extrees.png')"
   ]
  },
  {
   "cell_type": "code",
   "execution_count": null,
   "metadata": {
    "id": "O5BBMOALbcWg"
   },
   "outputs": [],
   "source": []
  }
 ],
 "metadata": {
  "colab": {
   "name": "modified.ipynb",
   "provenance": []
  },
  "kernelspec": {
   "display_name": "Python 3",
   "language": "python",
   "name": "python3"
  },
  "language_info": {
   "codemirror_mode": {
    "name": "ipython",
    "version": 3
   },
   "file_extension": ".py",
   "mimetype": "text/x-python",
   "name": "python",
   "nbconvert_exporter": "python",
   "pygments_lexer": "ipython3",
   "version": "3.8.1"
  }
 },
 "nbformat": 4,
 "nbformat_minor": 1
}
